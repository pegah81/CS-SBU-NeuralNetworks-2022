{
 "cells": [
  {
   "cell_type": "markdown",
   "id": "d0697859",
   "metadata": {},
   "source": [
    "## Neural Networks - Project 1"
   ]
  },
  {
   "cell_type": "markdown",
   "id": "a130d544",
   "metadata": {},
   "source": [
    "Pegah Givehchian\n",
    "99222089"
   ]
  },
  {
   "cell_type": "markdown",
   "id": "4b082364",
   "metadata": {},
   "source": [
    "# Question 1\n"
   ]
  },
  {
   "cell_type": "markdown",
   "id": "xhMBtiHL5kuw",
   "metadata": {
    "id": "xhMBtiHL5kuw"
   },
   "source": [
    "\n",
    "\n",
    "\n",
    "L1 vs L2 regularization:\n",
    "\n",
    "In general regularization is used to minimize our loss function and avoid over/under fitting. In bot methods we add a value to our loss function to reduce the variance between the train and test datasets and add a little bias."
   ]
  },
  {
   "cell_type": "code",
   "execution_count": 28,
   "id": "fd9c21c3",
   "metadata": {},
   "outputs": [
    {
     "data": {
      "image/png": "[encoded data removed]",
      "text/plain": [
       "<IPython.core.display.Image object>"
      ]
     },
     "execution_count": 28,
     "metadata": {},
     "output_type": "execute_result"
    }
   ],
   "source": [
    "Image(\"img/L1.png\")"
   ]
  },
  {
   "cell_type": "code",
   "execution_count": 30,
   "id": "561d1ac9",
   "metadata": {},
   "outputs": [
    {
     "data": {
      "image/png": "[encoded data removed]",
      "text/plain": [
       "<IPython.core.display.Image object>"
      ]
     },
     "execution_count": 30,
     "metadata": {},
     "output_type": "execute_result"
    }
   ],
   "source": [
    "Image(\"img/L2.png\")"
   ]
  },
  {
   "cell_type": "markdown",
   "id": "638c41cb",
   "metadata": {},
   "source": [
    "L1 regularization penalizes the sum of absolute values of the weights, whereas L2 regularization penalizes the sum of squares of the weights.\n",
    "\n",
    "L1 creates a more sparse model than L2. It has a better performance with outlier points and is more robust, meaning that output and forecast are consistently accurate. \n",
    "It creates a more simple method, which makes it a little harder to learn complicated algorithms.\n",
    "But L2 is less computationally expensive, because L1 takes the absolute values of the weights.\n",
    "\n",
    "By adding these regularizations, the weights are reduced, so that the models become more simple. So it decreases the chance of overfitting the training data.\n",
    "\n",
    "Where L1 regularization attempts to estimate the median of data, L2 regularization makes estimation for the mean of the data in order to evade overfitting.\n",
    "\n",
    "Due to the reasons mentioned above, I would prefer L2 regression.\n",
    "Also while training the models in exercise 2, the model in which i used L2 regression had a better loss than L1 and a lower variance.\n"
   ]
  },
  {
   "cell_type": "markdown",
   "id": "4024e454",
   "metadata": {},
   "source": [
    "# **Question 2**\n"
   ]
  },
  {
   "cell_type": "code",
   "execution_count": 4,
   "id": "7a82271c",
   "metadata": {
    "executionInfo": {
     "elapsed": 4792,
     "status": "ok",
     "timestamp": 1668071910157,
     "user": {
      "displayName": "Pegah Givehchian",
      "userId": "17713336140697197780"
     },
     "user_tz": -210
    },
    "id": "7a82271c"
   },
   "outputs": [],
   "source": [
    "import tensorflow as tf\n",
    "import pandas as pd\n",
    "import numpy as np\n",
    "import os\n",
    "import matplotlib.pyplot as plt\n",
    "from tensorflow.keras.models import Sequential\n",
    "from tensorflow.keras.layers import Dense\n",
    "from tensorflow.keras.layers import Dense, BatchNormalization\n",
    "from tensorflow.keras.layers import Dropout\n",
    "from tensorflow.keras.callbacks import EarlyStopping\n",
    "from IPython.display import Image\n",
    "from tensorflow.keras import regularizers"
   ]
  },
  {
   "cell_type": "markdown",
   "id": "ecb70923",
   "metadata": {},
   "source": [
    "Import datasets"
   ]
  },
  {
   "cell_type": "code",
   "execution_count": 11,
   "id": "e031a594",
   "metadata": {
    "colab": {
     "base_uri": "https://localhost:8080/",
     "height": 183
    },
    "executionInfo": {
     "elapsed": 1559,
     "status": "error",
     "timestamp": 1668072992329,
     "user": {
      "displayName": "Pegah Givehchian",
      "userId": "17713336140697197780"
     },
     "user_tz": -210
    },
    "id": "e031a594",
    "outputId": "d97ecdda-5467-4a45-8483-0d0578e6427f"
   },
   "outputs": [],
   "source": [
    "train_data = pd.read_csv(\"Dataset/fashion-mnist_train.csv\")\n",
    "test_data = pd.read_csv(\"Dataset/fashion-mnist_test.csv\")"
   ]
  },
  {
   "cell_type": "code",
   "execution_count": 12,
   "id": "Tl3BMrIqAbqa",
   "metadata": {
    "colab": {
     "base_uri": "https://localhost:8080/",
     "height": 487
    },
    "executionInfo": {
     "elapsed": 5,
     "status": "ok",
     "timestamp": 1667992690410,
     "user": {
      "displayName": "Pegah Givehchian",
      "userId": "17713336140697197780"
     },
     "user_tz": -210
    },
    "id": "Tl3BMrIqAbqa",
    "outputId": "a819112d-a6ee-4244-b606-2bcf1f509e14"
   },
   "outputs": [
    {
     "data": {
      "text/html": [
       "<div>\n",
       "<style scoped>\n",
       "    .dataframe tbody tr th:only-of-type {\n",
       "        vertical-align: middle;\n",
       "    }\n",
       "\n",
       "    .dataframe tbody tr th {\n",
       "        vertical-align: top;\n",
       "    }\n",
       "\n",
       "    .dataframe thead th {\n",
       "        text-align: right;\n",
       "    }\n",
       "</style>\n",
       "<table border=\"1\" class=\"dataframe\">\n",
       "  <thead>\n",
       "    <tr style=\"text-align: right;\">\n",
       "      <th></th>\n",
       "      <th>label</th>\n",
       "      <th>pixel1</th>\n",
       "      <th>pixel2</th>\n",
       "      <th>pixel3</th>\n",
       "      <th>pixel4</th>\n",
       "      <th>pixel5</th>\n",
       "      <th>pixel6</th>\n",
       "      <th>pixel7</th>\n",
       "      <th>pixel8</th>\n",
       "      <th>pixel9</th>\n",
       "      <th>...</th>\n",
       "      <th>pixel775</th>\n",
       "      <th>pixel776</th>\n",
       "      <th>pixel777</th>\n",
       "      <th>pixel778</th>\n",
       "      <th>pixel779</th>\n",
       "      <th>pixel780</th>\n",
       "      <th>pixel781</th>\n",
       "      <th>pixel782</th>\n",
       "      <th>pixel783</th>\n",
       "      <th>pixel784</th>\n",
       "    </tr>\n",
       "  </thead>\n",
       "  <tbody>\n",
       "    <tr>\n",
       "      <th>0</th>\n",
       "      <td>2</td>\n",
       "      <td>0</td>\n",
       "      <td>0</td>\n",
       "      <td>0</td>\n",
       "      <td>0</td>\n",
       "      <td>0</td>\n",
       "      <td>0</td>\n",
       "      <td>0</td>\n",
       "      <td>0</td>\n",
       "      <td>0</td>\n",
       "      <td>...</td>\n",
       "      <td>0</td>\n",
       "      <td>0</td>\n",
       "      <td>0</td>\n",
       "      <td>0</td>\n",
       "      <td>0</td>\n",
       "      <td>0</td>\n",
       "      <td>0</td>\n",
       "      <td>0</td>\n",
       "      <td>0</td>\n",
       "      <td>0</td>\n",
       "    </tr>\n",
       "    <tr>\n",
       "      <th>1</th>\n",
       "      <td>9</td>\n",
       "      <td>0</td>\n",
       "      <td>0</td>\n",
       "      <td>0</td>\n",
       "      <td>0</td>\n",
       "      <td>0</td>\n",
       "      <td>0</td>\n",
       "      <td>0</td>\n",
       "      <td>0</td>\n",
       "      <td>0</td>\n",
       "      <td>...</td>\n",
       "      <td>0</td>\n",
       "      <td>0</td>\n",
       "      <td>0</td>\n",
       "      <td>0</td>\n",
       "      <td>0</td>\n",
       "      <td>0</td>\n",
       "      <td>0</td>\n",
       "      <td>0</td>\n",
       "      <td>0</td>\n",
       "      <td>0</td>\n",
       "    </tr>\n",
       "    <tr>\n",
       "      <th>2</th>\n",
       "      <td>6</td>\n",
       "      <td>0</td>\n",
       "      <td>0</td>\n",
       "      <td>0</td>\n",
       "      <td>0</td>\n",
       "      <td>0</td>\n",
       "      <td>0</td>\n",
       "      <td>0</td>\n",
       "      <td>5</td>\n",
       "      <td>0</td>\n",
       "      <td>...</td>\n",
       "      <td>0</td>\n",
       "      <td>0</td>\n",
       "      <td>0</td>\n",
       "      <td>30</td>\n",
       "      <td>43</td>\n",
       "      <td>0</td>\n",
       "      <td>0</td>\n",
       "      <td>0</td>\n",
       "      <td>0</td>\n",
       "      <td>0</td>\n",
       "    </tr>\n",
       "    <tr>\n",
       "      <th>3</th>\n",
       "      <td>0</td>\n",
       "      <td>0</td>\n",
       "      <td>0</td>\n",
       "      <td>0</td>\n",
       "      <td>1</td>\n",
       "      <td>2</td>\n",
       "      <td>0</td>\n",
       "      <td>0</td>\n",
       "      <td>0</td>\n",
       "      <td>0</td>\n",
       "      <td>...</td>\n",
       "      <td>3</td>\n",
       "      <td>0</td>\n",
       "      <td>0</td>\n",
       "      <td>0</td>\n",
       "      <td>0</td>\n",
       "      <td>1</td>\n",
       "      <td>0</td>\n",
       "      <td>0</td>\n",
       "      <td>0</td>\n",
       "      <td>0</td>\n",
       "    </tr>\n",
       "    <tr>\n",
       "      <th>4</th>\n",
       "      <td>3</td>\n",
       "      <td>0</td>\n",
       "      <td>0</td>\n",
       "      <td>0</td>\n",
       "      <td>0</td>\n",
       "      <td>0</td>\n",
       "      <td>0</td>\n",
       "      <td>0</td>\n",
       "      <td>0</td>\n",
       "      <td>0</td>\n",
       "      <td>...</td>\n",
       "      <td>0</td>\n",
       "      <td>0</td>\n",
       "      <td>0</td>\n",
       "      <td>0</td>\n",
       "      <td>0</td>\n",
       "      <td>0</td>\n",
       "      <td>0</td>\n",
       "      <td>0</td>\n",
       "      <td>0</td>\n",
       "      <td>0</td>\n",
       "    </tr>\n",
       "    <tr>\n",
       "      <th>...</th>\n",
       "      <td>...</td>\n",
       "      <td>...</td>\n",
       "      <td>...</td>\n",
       "      <td>...</td>\n",
       "      <td>...</td>\n",
       "      <td>...</td>\n",
       "      <td>...</td>\n",
       "      <td>...</td>\n",
       "      <td>...</td>\n",
       "      <td>...</td>\n",
       "      <td>...</td>\n",
       "      <td>...</td>\n",
       "      <td>...</td>\n",
       "      <td>...</td>\n",
       "      <td>...</td>\n",
       "      <td>...</td>\n",
       "      <td>...</td>\n",
       "      <td>...</td>\n",
       "      <td>...</td>\n",
       "      <td>...</td>\n",
       "      <td>...</td>\n",
       "    </tr>\n",
       "    <tr>\n",
       "      <th>59995</th>\n",
       "      <td>9</td>\n",
       "      <td>0</td>\n",
       "      <td>0</td>\n",
       "      <td>0</td>\n",
       "      <td>0</td>\n",
       "      <td>0</td>\n",
       "      <td>0</td>\n",
       "      <td>0</td>\n",
       "      <td>0</td>\n",
       "      <td>0</td>\n",
       "      <td>...</td>\n",
       "      <td>0</td>\n",
       "      <td>0</td>\n",
       "      <td>0</td>\n",
       "      <td>0</td>\n",
       "      <td>0</td>\n",
       "      <td>0</td>\n",
       "      <td>0</td>\n",
       "      <td>0</td>\n",
       "      <td>0</td>\n",
       "      <td>0</td>\n",
       "    </tr>\n",
       "    <tr>\n",
       "      <th>59996</th>\n",
       "      <td>1</td>\n",
       "      <td>0</td>\n",
       "      <td>0</td>\n",
       "      <td>0</td>\n",
       "      <td>0</td>\n",
       "      <td>0</td>\n",
       "      <td>0</td>\n",
       "      <td>0</td>\n",
       "      <td>0</td>\n",
       "      <td>0</td>\n",
       "      <td>...</td>\n",
       "      <td>73</td>\n",
       "      <td>0</td>\n",
       "      <td>0</td>\n",
       "      <td>0</td>\n",
       "      <td>0</td>\n",
       "      <td>0</td>\n",
       "      <td>0</td>\n",
       "      <td>0</td>\n",
       "      <td>0</td>\n",
       "      <td>0</td>\n",
       "    </tr>\n",
       "    <tr>\n",
       "      <th>59997</th>\n",
       "      <td>8</td>\n",
       "      <td>0</td>\n",
       "      <td>0</td>\n",
       "      <td>0</td>\n",
       "      <td>0</td>\n",
       "      <td>0</td>\n",
       "      <td>0</td>\n",
       "      <td>0</td>\n",
       "      <td>0</td>\n",
       "      <td>0</td>\n",
       "      <td>...</td>\n",
       "      <td>160</td>\n",
       "      <td>162</td>\n",
       "      <td>163</td>\n",
       "      <td>135</td>\n",
       "      <td>94</td>\n",
       "      <td>0</td>\n",
       "      <td>0</td>\n",
       "      <td>0</td>\n",
       "      <td>0</td>\n",
       "      <td>0</td>\n",
       "    </tr>\n",
       "    <tr>\n",
       "      <th>59998</th>\n",
       "      <td>8</td>\n",
       "      <td>0</td>\n",
       "      <td>0</td>\n",
       "      <td>0</td>\n",
       "      <td>0</td>\n",
       "      <td>0</td>\n",
       "      <td>0</td>\n",
       "      <td>0</td>\n",
       "      <td>0</td>\n",
       "      <td>0</td>\n",
       "      <td>...</td>\n",
       "      <td>0</td>\n",
       "      <td>0</td>\n",
       "      <td>0</td>\n",
       "      <td>0</td>\n",
       "      <td>0</td>\n",
       "      <td>0</td>\n",
       "      <td>0</td>\n",
       "      <td>0</td>\n",
       "      <td>0</td>\n",
       "      <td>0</td>\n",
       "    </tr>\n",
       "    <tr>\n",
       "      <th>59999</th>\n",
       "      <td>7</td>\n",
       "      <td>0</td>\n",
       "      <td>0</td>\n",
       "      <td>0</td>\n",
       "      <td>0</td>\n",
       "      <td>0</td>\n",
       "      <td>0</td>\n",
       "      <td>0</td>\n",
       "      <td>0</td>\n",
       "      <td>0</td>\n",
       "      <td>...</td>\n",
       "      <td>0</td>\n",
       "      <td>0</td>\n",
       "      <td>0</td>\n",
       "      <td>0</td>\n",
       "      <td>0</td>\n",
       "      <td>0</td>\n",
       "      <td>0</td>\n",
       "      <td>0</td>\n",
       "      <td>0</td>\n",
       "      <td>0</td>\n",
       "    </tr>\n",
       "  </tbody>\n",
       "</table>\n",
       "<p>60000 rows × 785 columns</p>\n",
       "</div>"
      ],
      "text/plain": [
       "       label  pixel1  pixel2  pixel3  pixel4  pixel5  pixel6  pixel7  pixel8  \\\n",
       "0          2       0       0       0       0       0       0       0       0   \n",
       "1          9       0       0       0       0       0       0       0       0   \n",
       "2          6       0       0       0       0       0       0       0       5   \n",
       "3          0       0       0       0       1       2       0       0       0   \n",
       "4          3       0       0       0       0       0       0       0       0   \n",
       "...      ...     ...     ...     ...     ...     ...     ...     ...     ...   \n",
       "59995      9       0       0       0       0       0       0       0       0   \n",
       "59996      1       0       0       0       0       0       0       0       0   \n",
       "59997      8       0       0       0       0       0       0       0       0   \n",
       "59998      8       0       0       0       0       0       0       0       0   \n",
       "59999      7       0       0       0       0       0       0       0       0   \n",
       "\n",
       "       pixel9  ...  pixel775  pixel776  pixel777  pixel778  pixel779  \\\n",
       "0           0  ...         0         0         0         0         0   \n",
       "1           0  ...         0         0         0         0         0   \n",
       "2           0  ...         0         0         0        30        43   \n",
       "3           0  ...         3         0         0         0         0   \n",
       "4           0  ...         0         0         0         0         0   \n",
       "...       ...  ...       ...       ...       ...       ...       ...   \n",
       "59995       0  ...         0         0         0         0         0   \n",
       "59996       0  ...        73         0         0         0         0   \n",
       "59997       0  ...       160       162       163       135        94   \n",
       "59998       0  ...         0         0         0         0         0   \n",
       "59999       0  ...         0         0         0         0         0   \n",
       "\n",
       "       pixel780  pixel781  pixel782  pixel783  pixel784  \n",
       "0             0         0         0         0         0  \n",
       "1             0         0         0         0         0  \n",
       "2             0         0         0         0         0  \n",
       "3             1         0         0         0         0  \n",
       "4             0         0         0         0         0  \n",
       "...         ...       ...       ...       ...       ...  \n",
       "59995         0         0         0         0         0  \n",
       "59996         0         0         0         0         0  \n",
       "59997         0         0         0         0         0  \n",
       "59998         0         0         0         0         0  \n",
       "59999         0         0         0         0         0  \n",
       "\n",
       "[60000 rows x 785 columns]"
      ]
     },
     "execution_count": 12,
     "metadata": {},
     "output_type": "execute_result"
    }
   ],
   "source": [
    "train_data"
   ]
  },
  {
   "cell_type": "code",
   "execution_count": 13,
   "id": "OUFlxBCUAdnT",
   "metadata": {
    "colab": {
     "base_uri": "https://localhost:8080/"
    },
    "executionInfo": {
     "elapsed": 4,
     "status": "ok",
     "timestamp": 1667992738451,
     "user": {
      "displayName": "Pegah Givehchian",
      "userId": "17713336140697197780"
     },
     "user_tz": -210
    },
    "id": "OUFlxBCUAdnT",
    "outputId": "0b808a6e-0315-4299-912b-74a967b3f123"
   },
   "outputs": [
    {
     "data": {
      "text/plain": [
       "(60000, 785)"
      ]
     },
     "execution_count": 13,
     "metadata": {},
     "output_type": "execute_result"
    }
   ],
   "source": [
    "train_data.shape"
   ]
  },
  {
   "cell_type": "code",
   "execution_count": 14,
   "id": "mNkav0ZhHVbj",
   "metadata": {
    "colab": {
     "base_uri": "https://localhost:8080/"
    },
    "executionInfo": {
     "elapsed": 3,
     "status": "ok",
     "timestamp": 1667992772820,
     "user": {
      "displayName": "Pegah Givehchian",
      "userId": "17713336140697197780"
     },
     "user_tz": -210
    },
    "id": "mNkav0ZhHVbj",
    "outputId": "b0baef98-8d8c-4281-f854-6bab1db91d6e"
   },
   "outputs": [
    {
     "data": {
      "text/plain": [
       "Index(['label', 'pixel1', 'pixel2', 'pixel3', 'pixel4', 'pixel5', 'pixel6',\n",
       "       'pixel7', 'pixel8', 'pixel9',\n",
       "       ...\n",
       "       'pixel775', 'pixel776', 'pixel777', 'pixel778', 'pixel779', 'pixel780',\n",
       "       'pixel781', 'pixel782', 'pixel783', 'pixel784'],\n",
       "      dtype='object', length=785)"
      ]
     },
     "execution_count": 14,
     "metadata": {},
     "output_type": "execute_result"
    }
   ],
   "source": [
    "train_data.columns"
   ]
  },
  {
   "cell_type": "markdown",
   "id": "6HyHP2V_HjMo",
   "metadata": {
    "id": "6HyHP2V_HjMo"
   },
   "source": [
    "### Modeling Simple Model"
   ]
  },
  {
   "cell_type": "code",
   "execution_count": 15,
   "id": "in1oODj2K30D",
   "metadata": {
    "id": "in1oODj2K30D"
   },
   "outputs": [],
   "source": [
    "trainDataMatrix = np.asmatrix(train_data)"
   ]
  },
  {
   "cell_type": "code",
   "execution_count": 16,
   "id": "nWjN-caDM6Yy",
   "metadata": {
    "colab": {
     "base_uri": "https://localhost:8080/"
    },
    "executionInfo": {
     "elapsed": 434,
     "status": "ok",
     "timestamp": 1667994205317,
     "user": {
      "displayName": "Pegah Givehchian",
      "userId": "17713336140697197780"
     },
     "user_tz": -210
    },
    "id": "nWjN-caDM6Yy",
    "outputId": "5be50fba-883f-46ef-94b5-1f0d8e94e818"
   },
   "outputs": [
    {
     "data": {
      "text/plain": [
       "matrix([[2, 0, 0, ..., 0, 0, 0],\n",
       "        [9, 0, 0, ..., 0, 0, 0],\n",
       "        [6, 0, 0, ..., 0, 0, 0],\n",
       "        ...,\n",
       "        [8, 0, 0, ..., 0, 0, 0],\n",
       "        [8, 0, 0, ..., 0, 0, 0],\n",
       "        [7, 0, 0, ..., 0, 0, 0]], dtype=int64)"
      ]
     },
     "execution_count": 16,
     "metadata": {},
     "output_type": "execute_result"
    }
   ],
   "source": [
    "trainDataMatrix"
   ]
  },
  {
   "cell_type": "code",
   "execution_count": 17,
   "id": "yq87SIPUMUya",
   "metadata": {
    "id": "yq87SIPUMUya"
   },
   "outputs": [],
   "source": [
    "Y = trainDataMatrix[:,0]"
   ]
  },
  {
   "cell_type": "code",
   "execution_count": 18,
   "id": "Oq0QLcILNH4A",
   "metadata": {
    "colab": {
     "base_uri": "https://localhost:8080/"
    },
    "executionInfo": {
     "elapsed": 485,
     "status": "ok",
     "timestamp": 1667994279358,
     "user": {
      "displayName": "Pegah Givehchian",
      "userId": "17713336140697197780"
     },
     "user_tz": -210
    },
    "id": "Oq0QLcILNH4A",
    "outputId": "feb27bc9-9663-4b97-9265-87bf92d6b568"
   },
   "outputs": [
    {
     "data": {
      "text/plain": [
       "matrix([[2],\n",
       "        [9],\n",
       "        [6],\n",
       "        ...,\n",
       "        [8],\n",
       "        [8],\n",
       "        [7]], dtype=int64)"
      ]
     },
     "execution_count": 18,
     "metadata": {},
     "output_type": "execute_result"
    }
   ],
   "source": [
    "Y"
   ]
  },
  {
   "cell_type": "code",
   "execution_count": 19,
   "id": "wFGuFVkkNR4g",
   "metadata": {
    "id": "wFGuFVkkNR4g"
   },
   "outputs": [],
   "source": [
    "X = trainDataMatrix[:,1:]"
   ]
  },
  {
   "cell_type": "code",
   "execution_count": 20,
   "id": "nT_o7l9WNdnK",
   "metadata": {
    "colab": {
     "base_uri": "https://localhost:8080/"
    },
    "executionInfo": {
     "elapsed": 495,
     "status": "ok",
     "timestamp": 1667994348681,
     "user": {
      "displayName": "Pegah Givehchian",
      "userId": "17713336140697197780"
     },
     "user_tz": -210
    },
    "id": "nT_o7l9WNdnK",
    "outputId": "4223af27-b1aa-415e-e95a-82bd5dbfd96b"
   },
   "outputs": [
    {
     "data": {
      "text/plain": [
       "matrix([[0, 0, 0, ..., 0, 0, 0],\n",
       "        [0, 0, 0, ..., 0, 0, 0],\n",
       "        [0, 0, 0, ..., 0, 0, 0],\n",
       "        ...,\n",
       "        [0, 0, 0, ..., 0, 0, 0],\n",
       "        [0, 0, 0, ..., 0, 0, 0],\n",
       "        [0, 0, 0, ..., 0, 0, 0]], dtype=int64)"
      ]
     },
     "execution_count": 20,
     "metadata": {},
     "output_type": "execute_result"
    }
   ],
   "source": [
    "X"
   ]
  },
  {
   "cell_type": "code",
   "execution_count": 21,
   "id": "Zgm01YhaHlxC",
   "metadata": {
    "id": "Zgm01YhaHlxC"
   },
   "outputs": [],
   "source": [
    "simpleModel = Sequential(\n",
    "    [\n",
    "        tf.keras.Input(shape=(784,)),\n",
    "        Dense(units=225 ,activation=tf.nn.relu ,name=\"hidden_layer_1\"),\n",
    "        Dense(units=256 ,activation=tf.nn.relu,name=\"hidden_layer_2\"),\n",
    "        Dense(units=128 ,activation=tf.nn.relu,name=\"hidden_layer_3\"),\n",
    "        Dense(units=10 ,activation=tf.nn.softmax,name=\"output_layer\"),\n",
    "    ],name = \"TheFirstModel\"\n",
    ") "
   ]
  },
  {
   "cell_type": "code",
   "execution_count": 15,
   "id": "NaNdYF-cJ573",
   "metadata": {
    "colab": {
     "base_uri": "https://localhost:8080/"
    },
    "executionInfo": {
     "elapsed": 409,
     "status": "ok",
     "timestamp": 1667997073355,
     "user": {
      "displayName": "Pegah Givehchian",
      "userId": "17713336140697197780"
     },
     "user_tz": -210
    },
    "id": "NaNdYF-cJ573",
    "outputId": "3f3b2b5e-d6ce-424f-eca6-bb4a4c6e073c"
   },
   "outputs": [
    {
     "name": "stdout",
     "output_type": "stream",
     "text": [
      "Epoch 1/15\n",
      "1875/1875 [==============================] - 9s 4ms/step - loss: 1.3489\n",
      "Epoch 2/15\n",
      "1875/1875 [==============================] - 8s 4ms/step - loss: 0.4785\n",
      "Epoch 3/15\n",
      "1875/1875 [==============================] - 9s 5ms/step - loss: 0.4363\n",
      "Epoch 4/15\n",
      "1875/1875 [==============================] - 8s 5ms/step - loss: 0.4250\n",
      "Epoch 5/15\n",
      "1875/1875 [==============================] - 8s 4ms/step - loss: 0.3976\n",
      "Epoch 6/15\n",
      "1875/1875 [==============================] - 14s 8ms/step - loss: 0.3775\n",
      "Epoch 7/15\n",
      "1875/1875 [==============================] - 12s 7ms/step - loss: 0.3615\n",
      "Epoch 8/15\n",
      "1875/1875 [==============================] - 9s 5ms/step - loss: 0.3529\n",
      "Epoch 9/15\n",
      "1875/1875 [==============================] - 8s 5ms/step - loss: 0.3449\n",
      "Epoch 10/15\n",
      "1875/1875 [==============================] - 9s 5ms/step - loss: 0.3332\n",
      "Epoch 11/15\n",
      "1875/1875 [==============================] - 9s 5ms/step - loss: 0.3340\n",
      "Epoch 12/15\n",
      "1875/1875 [==============================] - 8s 4ms/step - loss: 0.3195\n",
      "Epoch 13/15\n",
      "1875/1875 [==============================] - 8s 4ms/step - loss: 0.3147\n",
      "Epoch 14/15\n",
      "1875/1875 [==============================] - 9s 5ms/step - loss: 0.3093\n",
      "Epoch 15/15\n",
      "1875/1875 [==============================] - 8s 4ms/step - loss: 0.3027\n"
     ]
    },
    {
     "data": {
      "text/plain": [
       "<keras.callbacks.History at 0x2b6139919a0>"
      ]
     },
     "execution_count": 15,
     "metadata": {},
     "output_type": "execute_result"
    }
   ],
   "source": [
    "simpleModel.compile(\n",
    "    loss = \"sparse_categorical_crossentropy\",\n",
    "    optimizer = tf.keras.optimizers.Adam(0.001),\n",
    ")\n",
    "simpleModel.fit(\n",
    "    X,Y,\n",
    "    epochs=15\n",
    ")"
   ]
  },
  {
   "cell_type": "code",
   "execution_count": 24,
   "id": "Qo8Y9_2gVVP4",
   "metadata": {
    "id": "Qo8Y9_2gVVP4"
   },
   "outputs": [],
   "source": [
    "testMatrix = np.asmatrix(test_data)\n",
    "xTest = testMatrix[:,1:]\n",
    "yTest = testMatrix[:,0]"
   ]
  },
  {
   "cell_type": "code",
   "execution_count": 17,
   "id": "4_c3sFucNigN",
   "metadata": {
    "colab": {
     "base_uri": "https://localhost:8080/"
    },
    "executionInfo": {
     "elapsed": 1100,
     "status": "ok",
     "timestamp": 1667996671734,
     "user": {
      "displayName": "Pegah Givehchian",
      "userId": "17713336140697197780"
     },
     "user_tz": -210
    },
    "id": "4_c3sFucNigN",
    "outputId": "f6a6addc-3df5-4c09-e303-bb243af1c650"
   },
   "outputs": [
    {
     "name": "stdout",
     "output_type": "stream",
     "text": [
      "313/313 [==============================] - 1s 2ms/step - loss: 0.3974\n"
     ]
    },
    {
     "data": {
      "text/plain": [
       "0.3973921239376068"
      ]
     },
     "execution_count": 17,
     "metadata": {},
     "output_type": "execute_result"
    }
   ],
   "source": [
    "simpleModel.evaluate(xTest, yTest)"
   ]
  },
  {
   "cell_type": "markdown",
   "id": "dc1cd152",
   "metadata": {},
   "source": [
    "We try to decrease the variance and loss by implementing different methods and regularizations."
   ]
  },
  {
   "cell_type": "markdown",
   "id": "9ba22c43",
   "metadata": {},
   "source": [
    "### Depth Effect"
   ]
  },
  {
   "cell_type": "markdown",
   "id": "4afc4435",
   "metadata": {},
   "source": [
    "The number of layers in a neural network defines its depth. So I try to create different models with different number of layers to understand its effect."
   ]
  },
  {
   "cell_type": "markdown",
   "id": "3918ea41",
   "metadata": {},
   "source": [
    "##### 5 Layers"
   ]
  },
  {
   "cell_type": "code",
   "execution_count": 72,
   "id": "809fb9c0",
   "metadata": {},
   "outputs": [],
   "source": [
    "count5LayerModel = Sequential(\n",
    "    [\n",
    "        tf.keras.Input(shape=(784,)),\n",
    "        Dense(units=225 ,activation=tf.nn.relu ,name=\"hidden_layer_1\"),\n",
    "        Dense(units=256 ,activation=tf.nn.relu,name=\"hidden_layer_2\"),\n",
    "        Dense(units=128 ,activation=tf.nn.relu,name=\"hidden_layer_3\"),\n",
    "        Dense(units=128 ,activation=tf.nn.relu,name=\"hidden_layer_4\"),\n",
    "        Dense(units=128 ,activation=tf.nn.relu,name=\"hidden_layer_5\"),\n",
    "        Dense(units=10 ,activation=tf.nn.softmax,name=\"output_layer\"),\n",
    "    ],name = \"count5LayerModel\"\n",
    ") "
   ]
  },
  {
   "cell_type": "code",
   "execution_count": 73,
   "id": "416dadf7",
   "metadata": {},
   "outputs": [
    {
     "name": "stdout",
     "output_type": "stream",
     "text": [
      "Epoch 1/15\n",
      "1875/1875 [==============================] - 8s 4ms/step - loss: 0.8956\n",
      "Epoch 2/15\n",
      "1875/1875 [==============================] - 8s 4ms/step - loss: 0.4703\n",
      "Epoch 3/15\n",
      "1875/1875 [==============================] - 7s 4ms/step - loss: 0.4269\n",
      "Epoch 4/15\n",
      "1875/1875 [==============================] - 7s 4ms/step - loss: 0.4012\n",
      "Epoch 5/15\n",
      "1875/1875 [==============================] - 7s 4ms/step - loss: 0.3773\n",
      "Epoch 6/15\n",
      "1875/1875 [==============================] - 6s 3ms/step - loss: 0.3627\n",
      "Epoch 7/15\n",
      "1875/1875 [==============================] - 7s 4ms/step - loss: 0.3471\n",
      "Epoch 8/15\n",
      "1875/1875 [==============================] - 7s 4ms/step - loss: 0.3332\n",
      "Epoch 9/15\n",
      "1875/1875 [==============================] - 7s 4ms/step - loss: 0.3258\n",
      "Epoch 10/15\n",
      "1875/1875 [==============================] - 7s 3ms/step - loss: 0.3216\n",
      "Epoch 11/15\n",
      "1875/1875 [==============================] - 7s 4ms/step - loss: 0.3121\n",
      "Epoch 12/15\n",
      "1875/1875 [==============================] - 7s 4ms/step - loss: 0.2979\n",
      "Epoch 13/15\n",
      "1875/1875 [==============================] - 7s 4ms/step - loss: 0.2955\n",
      "Epoch 14/15\n",
      "1875/1875 [==============================] - 8s 4ms/step - loss: 0.2952\n",
      "Epoch 15/15\n",
      "1875/1875 [==============================] - 7s 4ms/step - loss: 0.2914\n"
     ]
    },
    {
     "data": {
      "text/plain": [
       "<keras.callbacks.History at 0x2b6142b7a60>"
      ]
     },
     "execution_count": 73,
     "metadata": {},
     "output_type": "execute_result"
    }
   ],
   "source": [
    "count5LayerModel.compile(\n",
    "    loss = \"sparse_categorical_crossentropy\",\n",
    "    optimizer = tf.keras.optimizers.Adam(0.001),\n",
    ")\n",
    "count5LayerModel.fit(\n",
    "    X,Y,\n",
    "    epochs=15\n",
    ")"
   ]
  },
  {
   "cell_type": "code",
   "execution_count": 74,
   "id": "fbde010c",
   "metadata": {},
   "outputs": [
    {
     "name": "stdout",
     "output_type": "stream",
     "text": [
      "313/313 [==============================] - 1s 3ms/step - loss: 0.4297\n"
     ]
    },
    {
     "data": {
      "text/plain": [
       "0.4297083914279938"
      ]
     },
     "execution_count": 74,
     "metadata": {},
     "output_type": "execute_result"
    }
   ],
   "source": [
    "count5LayerModel.evaluate(xTest, yTest)"
   ]
  },
  {
   "cell_type": "markdown",
   "id": "f1bbda9e",
   "metadata": {},
   "source": [
    "##### 2 Layers"
   ]
  },
  {
   "cell_type": "code",
   "execution_count": 75,
   "id": "34e93141",
   "metadata": {},
   "outputs": [],
   "source": [
    "count2LayerModel = Sequential(\n",
    "    [\n",
    "        tf.keras.Input(shape=(784,)),\n",
    "        Dense(units=225 ,activation=tf.nn.relu ,name=\"hidden_layer_1\"),\n",
    "        Dense(units=256 ,activation=tf.nn.relu,name=\"hidden_layer_2\"),\n",
    "        Dense(units=10 ,activation=tf.nn.softmax,name=\"output_layer\"),\n",
    "    ],name = \"count2LayerModel\"\n",
    ") "
   ]
  },
  {
   "cell_type": "code",
   "execution_count": 76,
   "id": "1d013a52",
   "metadata": {},
   "outputs": [
    {
     "name": "stdout",
     "output_type": "stream",
     "text": [
      "Epoch 1/15\n",
      "1875/1875 [==============================] - 6s 3ms/step - loss: 2.1136\n",
      "Epoch 2/15\n",
      "1875/1875 [==============================] - 5s 3ms/step - loss: 0.6514\n",
      "Epoch 3/15\n",
      "1875/1875 [==============================] - 5s 3ms/step - loss: 0.5859\n",
      "Epoch 4/15\n",
      "1875/1875 [==============================] - 5s 3ms/step - loss: 0.5229\n",
      "Epoch 5/15\n",
      "1875/1875 [==============================] - 6s 3ms/step - loss: 0.4697\n",
      "Epoch 6/15\n",
      "1875/1875 [==============================] - 5s 3ms/step - loss: 0.4430\n",
      "Epoch 7/15\n",
      "1875/1875 [==============================] - 5s 3ms/step - loss: 0.4218\n",
      "Epoch 8/15\n",
      "1875/1875 [==============================] - 5s 3ms/step - loss: 0.4088\n",
      "Epoch 9/15\n",
      "1875/1875 [==============================] - 5s 3ms/step - loss: 0.4059\n",
      "Epoch 10/15\n",
      "1875/1875 [==============================] - 5s 3ms/step - loss: 0.3915\n",
      "Epoch 11/15\n",
      "1875/1875 [==============================] - 5s 3ms/step - loss: 0.3835\n",
      "Epoch 12/15\n",
      "1875/1875 [==============================] - 6s 3ms/step - loss: 0.3791\n",
      "Epoch 13/15\n",
      "1875/1875 [==============================] - 5s 3ms/step - loss: 0.3793\n",
      "Epoch 14/15\n",
      "1875/1875 [==============================] - 5s 3ms/step - loss: 0.3770\n",
      "Epoch 15/15\n",
      "1875/1875 [==============================] - 6s 3ms/step - loss: 0.3681\n"
     ]
    },
    {
     "data": {
      "text/plain": [
       "<keras.callbacks.History at 0x2b6143da7c0>"
      ]
     },
     "execution_count": 76,
     "metadata": {},
     "output_type": "execute_result"
    }
   ],
   "source": [
    "count2LayerModel.compile(\n",
    "    loss = \"sparse_categorical_crossentropy\",\n",
    "    optimizer = tf.keras.optimizers.Adam(0.001),\n",
    ")\n",
    "count2LayerModel.fit(\n",
    "    X,Y,\n",
    "    epochs=15\n",
    ")"
   ]
  },
  {
   "cell_type": "code",
   "execution_count": 77,
   "id": "576222b9",
   "metadata": {},
   "outputs": [
    {
     "name": "stdout",
     "output_type": "stream",
     "text": [
      "313/313 [==============================] - 1s 2ms/step - loss: 0.4555\n"
     ]
    },
    {
     "data": {
      "text/plain": [
       "0.45554590225219727"
      ]
     },
     "execution_count": 77,
     "metadata": {},
     "output_type": "execute_result"
    }
   ],
   "source": [
    "count2LayerModel.evaluate(xTest, yTest)"
   ]
  },
  {
   "cell_type": "markdown",
   "id": "d4839012",
   "metadata": {},
   "source": [
    "##### 10 Layers"
   ]
  },
  {
   "cell_type": "code",
   "execution_count": 78,
   "id": "f2555a62",
   "metadata": {},
   "outputs": [],
   "source": [
    "count10LayerModel = Sequential(\n",
    "    [\n",
    "        tf.keras.Input(shape=(784,)),\n",
    "        Dense(units=225 ,activation=tf.nn.relu ,name=\"hidden_layer_1\"),\n",
    "        Dense(units=256 ,activation=tf.nn.relu,name=\"hidden_layer_2\"),\n",
    "        Dense(units=128 ,activation=tf.nn.relu,name=\"hidden_layer_3\"),\n",
    "        Dense(units=128 ,activation=tf.nn.relu,name=\"hidden_layer_4\"),\n",
    "        Dense(units=225 ,activation=tf.nn.relu,name=\"hidden_layer_5\"),\n",
    "        Dense(units=256 ,activation=tf.nn.relu,name=\"hidden_layer_6\"),\n",
    "        Dense(units=28 ,activation=tf.nn.relu,name=\"hidden_layer_7\"),\n",
    "        Dense(units=64 ,activation=tf.nn.relu,name=\"hidden_layer_8\"),\n",
    "        Dense(units=128 ,activation=tf.nn.relu,name=\"hidden_layer_9\"),\n",
    "        Dense(units=225 ,activation=tf.nn.relu,name=\"hidden_layer_10\"),\n",
    "        Dense(units=10 ,activation=tf.nn.softmax,name=\"output_layer\"),\n",
    "    ],name = \"count10LayerModel\"\n",
    ") "
   ]
  },
  {
   "cell_type": "code",
   "execution_count": 79,
   "id": "e5df7f14",
   "metadata": {},
   "outputs": [
    {
     "name": "stdout",
     "output_type": "stream",
     "text": [
      "Epoch 1/15\n",
      "1875/1875 [==============================] - 9s 4ms/step - loss: 0.6390\n",
      "Epoch 2/15\n",
      "1875/1875 [==============================] - 10s 5ms/step - loss: 0.4669\n",
      "Epoch 3/15\n",
      "1875/1875 [==============================] - 10s 5ms/step - loss: 0.4246\n",
      "Epoch 4/15\n",
      "1875/1875 [==============================] - 9s 5ms/step - loss: 0.3982\n",
      "Epoch 5/15\n",
      "1875/1875 [==============================] - 9s 5ms/step - loss: 0.3757\n",
      "Epoch 6/15\n",
      "1875/1875 [==============================] - 9s 5ms/step - loss: 0.3686\n",
      "Epoch 7/15\n",
      "1875/1875 [==============================] - 9s 5ms/step - loss: 0.3584\n",
      "Epoch 8/15\n",
      "1875/1875 [==============================] - 9s 5ms/step - loss: 0.3445\n",
      "Epoch 9/15\n",
      "1875/1875 [==============================] - 9s 5ms/step - loss: 0.3393\n",
      "Epoch 10/15\n",
      "1875/1875 [==============================] - 9s 5ms/step - loss: 0.3391\n",
      "Epoch 11/15\n",
      "1875/1875 [==============================] - 9s 5ms/step - loss: 0.3245\n",
      "Epoch 12/15\n",
      "1875/1875 [==============================] - 9s 5ms/step - loss: 0.3205\n",
      "Epoch 13/15\n",
      "1875/1875 [==============================] - 9s 5ms/step - loss: 0.3200\n",
      "Epoch 14/15\n",
      "1875/1875 [==============================] - 9s 5ms/step - loss: 0.3074\n",
      "Epoch 15/15\n",
      "1875/1875 [==============================] - 9s 5ms/step - loss: 0.3063\n"
     ]
    },
    {
     "data": {
      "text/plain": [
       "<keras.callbacks.History at 0x2b615bee850>"
      ]
     },
     "execution_count": 79,
     "metadata": {},
     "output_type": "execute_result"
    }
   ],
   "source": [
    "count10LayerModel.compile(\n",
    "    loss = \"sparse_categorical_crossentropy\",\n",
    "    optimizer = tf.keras.optimizers.Adam(0.001),\n",
    ")\n",
    "count10LayerModel.fit(\n",
    "    X,Y,\n",
    "    epochs=15\n",
    ")"
   ]
  },
  {
   "cell_type": "code",
   "execution_count": 80,
   "id": "16663838",
   "metadata": {},
   "outputs": [
    {
     "name": "stdout",
     "output_type": "stream",
     "text": [
      "313/313 [==============================] - 1s 3ms/step - loss: 0.4052\n"
     ]
    },
    {
     "data": {
      "text/plain": [
       "0.40516334772109985"
      ]
     },
     "execution_count": 80,
     "metadata": {},
     "output_type": "execute_result"
    }
   ],
   "source": [
    "count10LayerModel.evaluate(xTest, yTest)"
   ]
  },
  {
   "cell_type": "markdown",
   "id": "2e185f8a",
   "metadata": {},
   "source": [
    "We see that the more depth we add to our network, the less our loss becomes, but our variance becomes higher, which means that our model is overfitting."
   ]
  },
  {
   "cell_type": "markdown",
   "id": "9cR4GbWdXwJJ",
   "metadata": {
    "id": "9cR4GbWdXwJJ"
   },
   "source": [
    "### Normalization\n"
   ]
  },
  {
   "cell_type": "markdown",
   "id": "jZhUoON20Ea0",
   "metadata": {
    "id": "jZhUoON20Ea0"
   },
   "source": [
    "We devide our inputs by 255 so that they are between 0 and 1"
   ]
  },
  {
   "cell_type": "code",
   "execution_count": 18,
   "id": "PVYfRcrDXzNZ",
   "metadata": {
    "colab": {
     "base_uri": "https://localhost:8080/",
     "height": 166
    },
    "executionInfo": {
     "elapsed": 6,
     "status": "error",
     "timestamp": 1668071597599,
     "user": {
      "displayName": "Pegah Givehchian",
      "userId": "17713336140697197780"
     },
     "user_tz": -210
    },
    "id": "PVYfRcrDXzNZ",
    "outputId": "778eaf5b-2ea4-4156-a0f1-0546c8eccf58"
   },
   "outputs": [],
   "source": [
    "normalX = X/255"
   ]
  },
  {
   "cell_type": "code",
   "execution_count": 19,
   "id": "s09iA18cYpAR",
   "metadata": {
    "colab": {
     "base_uri": "https://localhost:8080/"
    },
    "executionInfo": {
     "elapsed": 141947,
     "status": "ok",
     "timestamp": 1667997534181,
     "user": {
      "displayName": "Pegah Givehchian",
      "userId": "17713336140697197780"
     },
     "user_tz": -210
    },
    "id": "s09iA18cYpAR",
    "outputId": "5f78c7d8-100d-4f77-e2ad-08d67cf7adb6"
   },
   "outputs": [
    {
     "name": "stdout",
     "output_type": "stream",
     "text": [
      "Epoch 1/15\n",
      "1875/1875 [==============================] - 8s 4ms/step - loss: 0.3547\n",
      "Epoch 2/15\n",
      "1875/1875 [==============================] - 8s 4ms/step - loss: 0.2797\n",
      "Epoch 3/15\n",
      "1875/1875 [==============================] - 8s 4ms/step - loss: 0.2634\n",
      "Epoch 4/15\n",
      "1875/1875 [==============================] - 8s 4ms/step - loss: 0.2512\n",
      "Epoch 5/15\n",
      "1875/1875 [==============================] - 8s 4ms/step - loss: 0.2429\n",
      "Epoch 6/15\n",
      "1875/1875 [==============================] - 8s 4ms/step - loss: 0.2352\n",
      "Epoch 7/15\n",
      "1875/1875 [==============================] - 8s 4ms/step - loss: 0.2269\n",
      "Epoch 8/15\n",
      "1875/1875 [==============================] - 10s 5ms/step - loss: 0.2206\n",
      "Epoch 9/15\n",
      "1875/1875 [==============================] - 9s 5ms/step - loss: 0.2147\n",
      "Epoch 10/15\n",
      "1875/1875 [==============================] - 8s 4ms/step - loss: 0.2067\n",
      "Epoch 11/15\n",
      "1875/1875 [==============================] - 8s 4ms/step - loss: 0.2009\n",
      "Epoch 12/15\n",
      "1875/1875 [==============================] - 12s 6ms/step - loss: 0.1971\n",
      "Epoch 13/15\n",
      "1875/1875 [==============================] - 10s 5ms/step - loss: 0.1905\n",
      "Epoch 14/15\n",
      "1875/1875 [==============================] - 8s 4ms/step - loss: 0.1866\n",
      "Epoch 15/15\n",
      "1875/1875 [==============================] - 8s 4ms/step - loss: 0.1806\n"
     ]
    },
    {
     "data": {
      "text/plain": [
       "<keras.callbacks.History at 0x2b6137c1190>"
      ]
     },
     "execution_count": 19,
     "metadata": {},
     "output_type": "execute_result"
    }
   ],
   "source": [
    "simpleModel.compile(\n",
    "    loss = \"sparse_categorical_crossentropy\",\n",
    "    optimizer = tf.keras.optimizers.Adam(0.001),\n",
    ")\n",
    "simpleModel.fit(\n",
    "    normalX,Y,\n",
    "    epochs=15\n",
    ")"
   ]
  },
  {
   "cell_type": "code",
   "execution_count": 20,
   "id": "wwZUoU8XbgKr",
   "metadata": {
    "colab": {
     "base_uri": "https://localhost:8080/"
    },
    "executionInfo": {
     "elapsed": 1548,
     "status": "ok",
     "timestamp": 1667998157893,
     "user": {
      "displayName": "Pegah Givehchian",
      "userId": "17713336140697197780"
     },
     "user_tz": -210
    },
    "id": "wwZUoU8XbgKr",
    "outputId": "dbe19667-6ddf-41dd-8c6c-24391f73f599"
   },
   "outputs": [
    {
     "name": "stdout",
     "output_type": "stream",
     "text": [
      "313/313 [==============================] - 1s 2ms/step - loss: 0.3517\n"
     ]
    },
    {
     "data": {
      "text/plain": [
       "0.3516875207424164"
      ]
     },
     "execution_count": 20,
     "metadata": {},
     "output_type": "execute_result"
    }
   ],
   "source": [
    "simpleModel.evaluate(xTest/255, yTest)"
   ]
  },
  {
   "cell_type": "markdown",
   "id": "B887QlhX0uTQ",
   "metadata": {
    "id": "B887QlhX0uTQ"
   },
   "source": [
    "we see that our loss has decreased, but we have a high variance, so our model is still overfitting."
   ]
  },
  {
   "cell_type": "markdown",
   "id": "rK9NPRrDZZac",
   "metadata": {
    "id": "rK9NPRrDZZac"
   },
   "source": [
    "### Batch Normalization"
   ]
  },
  {
   "cell_type": "code",
   "execution_count": 21,
   "id": "OLXgHcd6Zbl8",
   "metadata": {
    "id": "OLXgHcd6Zbl8"
   },
   "outputs": [],
   "source": [
    "Model2 = Sequential(\n",
    "    [\n",
    "        tf.keras.Input(shape=(784,)),\n",
    "        Dense(units=225 ,activation=tf.nn.relu ,name=\"hidden_layer_1\"),\n",
    "        BatchNormalization(),\n",
    "        Dense(units=256 ,activation=tf.nn.relu,name=\"hidden_layer_2\"),\n",
    "        BatchNormalization(),\n",
    "        Dense(units=128 ,activation=tf.nn.relu,name=\"hidden_layer_3\"),\n",
    "        BatchNormalization(),\n",
    "        Dense(units=10 ,activation=tf.nn.softmax,name=\"output_layer\"),\n",
    "    ],name = \"BatchNormalizationModel\"\n",
    ") "
   ]
  },
  {
   "cell_type": "code",
   "execution_count": 23,
   "id": "4NeFcYDlaQra",
   "metadata": {
    "colab": {
     "base_uri": "https://localhost:8080/"
    },
    "executionInfo": {
     "elapsed": 203572,
     "status": "ok",
     "timestamp": 1667998499697,
     "user": {
      "displayName": "Pegah Givehchian",
      "userId": "17713336140697197780"
     },
     "user_tz": -210
    },
    "id": "4NeFcYDlaQra",
    "outputId": "62e94ade-df68-402f-c81c-8b786eabfb3a"
   },
   "outputs": [
    {
     "name": "stdout",
     "output_type": "stream",
     "text": [
      "Epoch 1/15\n",
      "1875/1875 [==============================] - 11s 5ms/step - loss: 0.4994\n",
      "Epoch 2/15\n",
      "1875/1875 [==============================] - 10s 5ms/step - loss: 0.3936\n",
      "Epoch 3/15\n",
      "1875/1875 [==============================] - 10s 5ms/step - loss: 0.3571\n",
      "Epoch 4/15\n",
      "1875/1875 [==============================] - 10s 5ms/step - loss: 0.3346\n",
      "Epoch 5/15\n",
      "1875/1875 [==============================] - 10s 5ms/step - loss: 0.3200\n",
      "Epoch 6/15\n",
      "1875/1875 [==============================] - 10s 5ms/step - loss: 0.3026\n",
      "Epoch 7/15\n",
      "1875/1875 [==============================] - 10s 6ms/step - loss: 0.2917\n",
      "Epoch 8/15\n",
      "1875/1875 [==============================] - 10s 5ms/step - loss: 0.2795\n",
      "Epoch 9/15\n",
      "1875/1875 [==============================] - 10s 5ms/step - loss: 0.2715\n",
      "Epoch 10/15\n",
      "1875/1875 [==============================] - 11s 6ms/step - loss: 0.2642\n",
      "Epoch 11/15\n",
      "1875/1875 [==============================] - 12s 7ms/step - loss: 0.2531\n",
      "Epoch 12/15\n",
      "1875/1875 [==============================] - 12s 6ms/step - loss: 0.2432\n",
      "Epoch 13/15\n",
      "1875/1875 [==============================] - 11s 6ms/step - loss: 0.2366\n",
      "Epoch 14/15\n",
      "1875/1875 [==============================] - 17s 9ms/step - loss: 0.2302\n",
      "Epoch 15/15\n",
      "1875/1875 [==============================] - 14s 7ms/step - loss: 0.2221\n"
     ]
    },
    {
     "data": {
      "text/plain": [
       "<keras.callbacks.History at 0x2b616611c10>"
      ]
     },
     "execution_count": 23,
     "metadata": {},
     "output_type": "execute_result"
    }
   ],
   "source": [
    "Model2.compile(\n",
    "    loss = \"sparse_categorical_crossentropy\",\n",
    "    optimizer = tf.keras.optimizers.Adam(0.001),\n",
    ")\n",
    "Model2.fit(\n",
    "    X,Y,\n",
    "    epochs=15\n",
    ")"
   ]
  },
  {
   "cell_type": "code",
   "execution_count": 31,
   "id": "gMZkO9W_cP1p",
   "metadata": {
    "colab": {
     "base_uri": "https://localhost:8080/"
    },
    "executionInfo": {
     "elapsed": 1698,
     "status": "ok",
     "timestamp": 1667998273499,
     "user": {
      "displayName": "Pegah Givehchian",
      "userId": "17713336140697197780"
     },
     "user_tz": -210
    },
    "id": "gMZkO9W_cP1p",
    "outputId": "077edbfb-c81b-4b65-f60b-9d21fb07a683"
   },
   "outputs": [
    {
     "name": "stdout",
     "output_type": "stream",
     "text": [
      "313/313 [==============================] - 1s 2ms/step - loss: 0.4204\n"
     ]
    },
    {
     "data": {
      "text/plain": [
       "0.420440137386322"
      ]
     },
     "execution_count": 31,
     "metadata": {},
     "output_type": "execute_result"
    }
   ],
   "source": [
    "Model2.evaluate(xTest, yTest)"
   ]
  },
  {
   "cell_type": "markdown",
   "id": "a8QfyK-tavDI",
   "metadata": {
    "id": "a8QfyK-tavDI"
   },
   "source": [
    "Batch with the use of normalization"
   ]
  },
  {
   "cell_type": "code",
   "execution_count": 32,
   "id": "IDoB0CV9abkY",
   "metadata": {
    "colab": {
     "base_uri": "https://localhost:8080/"
    },
    "executionInfo": {
     "elapsed": 178621,
     "status": "ok",
     "timestamp": 1667998128471,
     "user": {
      "displayName": "Pegah Givehchian",
      "userId": "17713336140697197780"
     },
     "user_tz": -210
    },
    "id": "IDoB0CV9abkY",
    "outputId": "16e0fb09-bc9d-4c93-9dfb-1002f325e3d9"
   },
   "outputs": [
    {
     "name": "stdout",
     "output_type": "stream",
     "text": [
      "Epoch 1/15\n",
      "1875/1875 [==============================] - 10s 4ms/step - loss: 0.2197\n",
      "Epoch 2/15\n",
      "1875/1875 [==============================] - 9s 5ms/step - loss: 0.2140\n",
      "Epoch 3/15\n",
      "1875/1875 [==============================] - 9s 5ms/step - loss: 0.2069\n",
      "Epoch 4/15\n",
      "1875/1875 [==============================] - 9s 5ms/step - loss: 0.2026\n",
      "Epoch 5/15\n",
      "1875/1875 [==============================] - 9s 5ms/step - loss: 0.1986\n",
      "Epoch 6/15\n",
      "1875/1875 [==============================] - 10s 5ms/step - loss: 0.1948\n",
      "Epoch 7/15\n",
      "1875/1875 [==============================] - 10s 5ms/step - loss: 0.1893\n",
      "Epoch 8/15\n",
      "1875/1875 [==============================] - 10s 5ms/step - loss: 0.1838\n",
      "Epoch 9/15\n",
      "1875/1875 [==============================] - 9s 5ms/step - loss: 0.1810\n",
      "Epoch 10/15\n",
      "1875/1875 [==============================] - 9s 5ms/step - loss: 0.1766\n",
      "Epoch 11/15\n",
      "1875/1875 [==============================] - 9s 5ms/step - loss: 0.1730\n",
      "Epoch 12/15\n",
      "1875/1875 [==============================] - 9s 5ms/step - loss: 0.1686\n",
      "Epoch 13/15\n",
      "1875/1875 [==============================] - 9s 5ms/step - loss: 0.1673\n",
      "Epoch 14/15\n",
      "1875/1875 [==============================] - 8s 4ms/step - loss: 0.1687\n",
      "Epoch 15/15\n",
      "1875/1875 [==============================] - 8s 5ms/step - loss: 0.1631\n"
     ]
    },
    {
     "data": {
      "text/plain": [
       "<keras.callbacks.History at 0x2b616690be0>"
      ]
     },
     "execution_count": 32,
     "metadata": {},
     "output_type": "execute_result"
    }
   ],
   "source": [
    "Model2.compile(\n",
    "    loss = \"sparse_categorical_crossentropy\",\n",
    "    optimizer = tf.keras.optimizers.Adam(0.001),\n",
    ")\n",
    "Model2.fit(\n",
    "    normalX,Y,\n",
    "    epochs=15\n",
    ")"
   ]
  },
  {
   "cell_type": "code",
   "execution_count": 33,
   "id": "r1MojAkTbJrq",
   "metadata": {
    "id": "r1MojAkTbJrq"
   },
   "outputs": [
    {
     "name": "stdout",
     "output_type": "stream",
     "text": [
      "313/313 [==============================] - 1s 2ms/step - loss: 0.3373\n"
     ]
    },
    {
     "data": {
      "text/plain": [
       "0.33728882670402527"
      ]
     },
     "execution_count": 33,
     "metadata": {},
     "output_type": "execute_result"
    }
   ],
   "source": [
    "Model2.evaluate(xTest/255, yTest)"
   ]
  },
  {
   "cell_type": "markdown",
   "id": "6c8ceca0",
   "metadata": {
    "id": "njkBV6JzctBD"
   },
   "source": [
    "we see that batch normalization's loss is less than the simple model. But it has a high variance because the loss in the test and train datasets differ a lot, which means our model is yet still overfitting, so we use different methods like the dropout technique, early stopping or L1 L2 regularizations to decrease the variance and avoid overfitting."
   ]
  },
  {
   "cell_type": "markdown",
   "id": "--5pZNHzcyHY",
   "metadata": {
    "id": "--5pZNHzcyHY"
   },
   "source": [
    "### Dropout"
   ]
  },
  {
   "cell_type": "markdown",
   "id": "3d2fe9aa",
   "metadata": {},
   "source": [
    "Dropout is generally used for weakening the model to avoid overfitting, by dropping randomly selected neurons. "
   ]
  },
  {
   "cell_type": "code",
   "execution_count": 60,
   "id": "Z27qn6YTc8ca",
   "metadata": {
    "id": "Z27qn6YTc8ca"
   },
   "outputs": [],
   "source": [
    "Model3 = Sequential(\n",
    "    [\n",
    "        tf.keras.Input(shape=(784,)),\n",
    "        Dense(units=225 ,activation=tf.nn.relu ,name=\"hidden_layer_1\"),\n",
    "        Dropout(0.3),\n",
    "        Dense(units=256 ,activation=tf.nn.relu,name=\"hidden_layer_2\"),\n",
    "        Dropout(0.5),\n",
    "        Dense(units=128 ,activation=tf.nn.relu,name=\"hidden_layer_3\"),\n",
    "        Dense(units=10 ,activation=tf.nn.softmax,name=\"output_layer\"),\n",
    "    ],name = \"DropOutModel\"\n",
    ") "
   ]
  },
  {
   "cell_type": "code",
   "execution_count": 61,
   "id": "Pi44ml8keUov",
   "metadata": {
    "colab": {
     "base_uri": "https://localhost:8080/"
    },
    "executionInfo": {
     "elapsed": 146369,
     "status": "ok",
     "timestamp": 1667998953964,
     "user": {
      "displayName": "Pegah Givehchian",
      "userId": "17713336140697197780"
     },
     "user_tz": -210
    },
    "id": "Pi44ml8keUov",
    "outputId": "401e08ba-e279-4a60-b726-e67775a10a98"
   },
   "outputs": [
    {
     "name": "stdout",
     "output_type": "stream",
     "text": [
      "Epoch 1/15\n",
      "1875/1875 [==============================] - 6s 3ms/step - loss: 2.4973\n",
      "Epoch 2/15\n",
      "1875/1875 [==============================] - 6s 3ms/step - loss: 1.0378\n",
      "Epoch 3/15\n",
      "1875/1875 [==============================] - 6s 3ms/step - loss: 0.8729\n",
      "Epoch 4/15\n",
      "1875/1875 [==============================] - 7s 4ms/step - loss: 0.8187\n",
      "Epoch 5/15\n",
      "1875/1875 [==============================] - 7s 4ms/step - loss: 0.7598\n",
      "Epoch 6/15\n",
      "1875/1875 [==============================] - 7s 4ms/step - loss: 0.7460\n",
      "Epoch 7/15\n",
      "1875/1875 [==============================] - 7s 4ms/step - loss: 0.7254\n",
      "Epoch 8/15\n",
      "1875/1875 [==============================] - 7s 4ms/step - loss: 0.7197\n",
      "Epoch 9/15\n",
      "1875/1875 [==============================] - 6s 3ms/step - loss: 0.6960\n",
      "Epoch 10/15\n",
      "1875/1875 [==============================] - 7s 4ms/step - loss: 0.6907\n",
      "Epoch 11/15\n",
      "1875/1875 [==============================] - 7s 4ms/step - loss: 0.6854\n",
      "Epoch 12/15\n",
      "1875/1875 [==============================] - 6s 3ms/step - loss: 0.6825\n",
      "Epoch 13/15\n",
      "1875/1875 [==============================] - 7s 4ms/step - loss: 0.6894\n",
      "Epoch 14/15\n",
      "1875/1875 [==============================] - 8s 4ms/step - loss: 0.6654\n",
      "Epoch 15/15\n",
      "1875/1875 [==============================] - 8s 4ms/step - loss: 0.6763\n"
     ]
    },
    {
     "data": {
      "text/plain": [
       "<keras.callbacks.History at 0x2b61523e490>"
      ]
     },
     "execution_count": 61,
     "metadata": {},
     "output_type": "execute_result"
    }
   ],
   "source": [
    "Model3.compile(\n",
    "    loss = \"sparse_categorical_crossentropy\",\n",
    "    optimizer = tf.keras.optimizers.Adam(0.001),\n",
    ")\n",
    "Model3.fit(\n",
    "    X,Y,\n",
    "    epochs=15\n",
    ")"
   ]
  },
  {
   "cell_type": "code",
   "execution_count": 62,
   "id": "06f2cb72",
   "metadata": {},
   "outputs": [
    {
     "name": "stdout",
     "output_type": "stream",
     "text": [
      "313/313 [==============================] - 1s 2ms/step - loss: 0.5810\n"
     ]
    },
    {
     "data": {
      "text/plain": [
       "0.5810006856918335"
      ]
     },
     "execution_count": 62,
     "metadata": {},
     "output_type": "execute_result"
    }
   ],
   "source": [
    "Model3.evaluate(xTest, yTest)"
   ]
  },
  {
   "cell_type": "markdown",
   "id": "fc537b9b",
   "metadata": {},
   "source": [
    "We see that adding dropout gives us a higher loss than the simple model, but a lower variance, which makes our model more trustworthy."
   ]
  },
  {
   "cell_type": "markdown",
   "id": "4d3078d6",
   "metadata": {},
   "source": [
    "### Early Stopping Criteria"
   ]
  },
  {
   "cell_type": "markdown",
   "id": "d4c88eac",
   "metadata": {},
   "source": [
    "One of the methods used to avoid overfitting. It stops training as soon as the validation error reaches a minimum."
   ]
  },
  {
   "cell_type": "code",
   "execution_count": 63,
   "id": "da298a8b",
   "metadata": {},
   "outputs": [],
   "source": [
    "Model4 = Sequential(\n",
    "    [\n",
    "        tf.keras.Input(shape=(784,)),\n",
    "        Dense(units=225 ,activation=tf.nn.relu ,name=\"hidden_layer_1\"),\n",
    "        Dense(units=256 ,activation=tf.nn.relu,name=\"hidden_layer_2\"),\n",
    "        Dense(units=128 ,activation=tf.nn.relu,name=\"hidden_layer_3\"),\n",
    "        Dense(units=10 ,activation=tf.nn.softmax,name=\"output_layer\"),\n",
    "    ],name = \"EarlyStoppingModel\"\n",
    ") "
   ]
  },
  {
   "cell_type": "code",
   "execution_count": 64,
   "id": "75d82a9a",
   "metadata": {},
   "outputs": [
    {
     "name": "stdout",
     "output_type": "stream",
     "text": [
      "Epoch 1/15\n",
      "1868/1875 [============================>.] - ETA: 0s - loss: 1.3881WARNING:tensorflow:Early stopping conditioned on metric `val_loss` which is not available. Available metrics are: loss\n",
      "1875/1875 [==============================] - 5s 2ms/step - loss: 1.3856\n",
      "Epoch 2/15\n",
      "1869/1875 [============================>.] - ETA: 0s - loss: 0.5191WARNING:tensorflow:Early stopping conditioned on metric `val_loss` which is not available. Available metrics are: loss\n",
      "1875/1875 [==============================] - 6s 3ms/step - loss: 0.5186\n",
      "Epoch 3/15\n",
      "1866/1875 [============================>.] - ETA: 0s - loss: 0.4545WARNING:tensorflow:Early stopping conditioned on metric `val_loss` which is not available. Available metrics are: loss\n",
      "1875/1875 [==============================] - 6s 3ms/step - loss: 0.4545\n",
      "Epoch 4/15\n",
      "1861/1875 [============================>.] - ETA: 0s - loss: 0.4161WARNING:tensorflow:Early stopping conditioned on metric `val_loss` which is not available. Available metrics are: loss\n",
      "1875/1875 [==============================] - 6s 3ms/step - loss: 0.4164\n",
      "Epoch 5/15\n",
      "1868/1875 [============================>.] - ETA: 0s - loss: 0.3996WARNING:tensorflow:Early stopping conditioned on metric `val_loss` which is not available. Available metrics are: loss\n",
      "1875/1875 [==============================] - 6s 3ms/step - loss: 0.3996\n",
      "Epoch 6/15\n",
      "1875/1875 [==============================] - ETA: 0s - loss: 0.3790WARNING:tensorflow:Early stopping conditioned on metric `val_loss` which is not available. Available metrics are: loss\n",
      "1875/1875 [==============================] - 6s 3ms/step - loss: 0.3790\n",
      "Epoch 7/15\n",
      "1862/1875 [============================>.] - ETA: 0s - loss: 0.3628WARNING:tensorflow:Early stopping conditioned on metric `val_loss` which is not available. Available metrics are: loss\n",
      "1875/1875 [==============================] - 6s 3ms/step - loss: 0.3633\n",
      "Epoch 8/15\n",
      "1861/1875 [============================>.] - ETA: 0s - loss: 0.3524WARNING:tensorflow:Early stopping conditioned on metric `val_loss` which is not available. Available metrics are: loss\n",
      "1875/1875 [==============================] - 7s 4ms/step - loss: 0.3524\n",
      "Epoch 9/15\n",
      "1870/1875 [============================>.] - ETA: 0s - loss: 0.3457WARNING:tensorflow:Early stopping conditioned on metric `val_loss` which is not available. Available metrics are: loss\n",
      "1875/1875 [==============================] - 7s 3ms/step - loss: 0.3457\n",
      "Epoch 10/15\n",
      "1875/1875 [==============================] - ETA: 0s - loss: 0.3358WARNING:tensorflow:Early stopping conditioned on metric `val_loss` which is not available. Available metrics are: loss\n",
      "1875/1875 [==============================] - 7s 4ms/step - loss: 0.3358\n",
      "Epoch 11/15\n",
      "1866/1875 [============================>.] - ETA: 0s - loss: 0.3365WARNING:tensorflow:Early stopping conditioned on metric `val_loss` which is not available. Available metrics are: loss\n",
      "1875/1875 [==============================] - 7s 4ms/step - loss: 0.3373\n",
      "Epoch 12/15\n",
      "1870/1875 [============================>.] - ETA: 0s - loss: 0.3258WARNING:tensorflow:Early stopping conditioned on metric `val_loss` which is not available. Available metrics are: loss\n",
      "1875/1875 [==============================] - 7s 4ms/step - loss: 0.3258\n",
      "Epoch 13/15\n",
      "1872/1875 [============================>.] - ETA: 0s - loss: 0.3236WARNING:tensorflow:Early stopping conditioned on metric `val_loss` which is not available. Available metrics are: loss\n",
      "1875/1875 [==============================] - 7s 4ms/step - loss: 0.3240\n",
      "Epoch 14/15\n",
      "1875/1875 [==============================] - ETA: 0s - loss: 0.3152WARNING:tensorflow:Early stopping conditioned on metric `val_loss` which is not available. Available metrics are: loss\n",
      "1875/1875 [==============================] - 7s 4ms/step - loss: 0.3152\n",
      "Epoch 15/15\n",
      "1874/1875 [============================>.] - ETA: 0s - loss: 0.3122WARNING:tensorflow:Early stopping conditioned on metric `val_loss` which is not available. Available metrics are: loss\n",
      "1875/1875 [==============================] - 7s 4ms/step - loss: 0.3122\n"
     ]
    },
    {
     "data": {
      "text/plain": [
       "<keras.callbacks.History at 0x2b6140c3b20>"
      ]
     },
     "execution_count": 64,
     "metadata": {},
     "output_type": "execute_result"
    }
   ],
   "source": [
    "Model4.compile(\n",
    "    loss = \"sparse_categorical_crossentropy\",\n",
    "    optimizer = tf.keras.optimizers.Adam(0.001),\n",
    ")\n",
    "Model4.fit(\n",
    "    X,Y,\n",
    "    epochs=15,\n",
    "    callbacks=[EarlyStopping()]\n",
    ")"
   ]
  },
  {
   "cell_type": "code",
   "execution_count": 65,
   "id": "0ee735b7",
   "metadata": {},
   "outputs": [
    {
     "name": "stdout",
     "output_type": "stream",
     "text": [
      "313/313 [==============================] - 1s 2ms/step - loss: 0.3754\n"
     ]
    },
    {
     "data": {
      "text/plain": [
       "0.3753807246685028"
      ]
     },
     "execution_count": 65,
     "metadata": {},
     "output_type": "execute_result"
    }
   ],
   "source": [
    "Model4.evaluate(xTest, yTest)"
   ]
  },
  {
   "cell_type": "markdown",
   "id": "dfcaedcb",
   "metadata": {},
   "source": [
    "We see that it has a high loss, but it is lower than the dropout technique."
   ]
  },
  {
   "cell_type": "markdown",
   "id": "cb88365a",
   "metadata": {},
   "source": [
    "### L1 Regularization"
   ]
  },
  {
   "cell_type": "code",
   "execution_count": 57,
   "id": "cf1ab5b9",
   "metadata": {},
   "outputs": [],
   "source": [
    "Model5 = Sequential(\n",
    "    [\n",
    "        tf.keras.Input(shape=(784,)),\n",
    "        Dense(units=225 ,activation=tf.nn.relu ,name=\"hidden_layer_1\", kernel_regularizer='l1'),\n",
    "        Dense(units=256 ,activation=tf.nn.relu,name=\"hidden_layer_2\", kernel_regularizer='l1'),\n",
    "        Dense(units=128 ,activation=tf.nn.relu,name=\"hidden_layer_3\", kernel_regularizer='l1'),\n",
    "        Dense(units=10 ,activation=tf.nn.softmax,name=\"output_layer\"),\n",
    "    ],name = \"L1Model\"\n",
    ") "
   ]
  },
  {
   "cell_type": "code",
   "execution_count": 58,
   "id": "14d0b164",
   "metadata": {},
   "outputs": [
    {
     "name": "stdout",
     "output_type": "stream",
     "text": [
      "Epoch 1/15\n",
      "1875/1875 [==============================] - 8s 4ms/step - loss: 33.6343\n",
      "Epoch 2/15\n",
      "1875/1875 [==============================] - 8s 4ms/step - loss: 2.4071\n",
      "Epoch 3/15\n",
      "1875/1875 [==============================] - 7s 4ms/step - loss: 1.2655\n",
      "Epoch 4/15\n",
      "1875/1875 [==============================] - 7s 4ms/step - loss: 1.2142\n",
      "Epoch 5/15\n",
      "1875/1875 [==============================] - 7s 4ms/step - loss: 1.2271\n",
      "Epoch 6/15\n",
      "1875/1875 [==============================] - 7s 4ms/step - loss: 1.2136\n",
      "Epoch 7/15\n",
      "1875/1875 [==============================] - 8s 4ms/step - loss: 1.2111\n",
      "Epoch 8/15\n",
      "1875/1875 [==============================] - 7s 4ms/step - loss: 1.2010\n",
      "Epoch 9/15\n",
      "1875/1875 [==============================] - 8s 4ms/step - loss: 1.1891\n",
      "Epoch 10/15\n",
      "1875/1875 [==============================] - 8s 4ms/step - loss: 1.2136\n",
      "Epoch 11/15\n",
      "1875/1875 [==============================] - 9s 5ms/step - loss: 1.1858\n",
      "Epoch 12/15\n",
      "1875/1875 [==============================] - 9s 5ms/step - loss: 1.1924\n",
      "Epoch 13/15\n",
      "1875/1875 [==============================] - 8s 4ms/step - loss: 1.2010\n",
      "Epoch 14/15\n",
      "1875/1875 [==============================] - 9s 5ms/step - loss: 1.2041\n",
      "Epoch 15/15\n",
      "1875/1875 [==============================] - 8s 4ms/step - loss: 1.1852\n"
     ]
    },
    {
     "data": {
      "text/plain": [
       "<keras.callbacks.History at 0x2b61470a190>"
      ]
     },
     "execution_count": 58,
     "metadata": {},
     "output_type": "execute_result"
    }
   ],
   "source": [
    "Model5.compile(\n",
    "    loss = \"sparse_categorical_crossentropy\",\n",
    "    optimizer = tf.keras.optimizers.Adam(0.001),\n",
    ")\n",
    "Model5.fit(\n",
    "    X,Y,\n",
    "    epochs=15,\n",
    ")"
   ]
  },
  {
   "cell_type": "code",
   "execution_count": 66,
   "id": "99a4f44f",
   "metadata": {},
   "outputs": [
    {
     "name": "stdout",
     "output_type": "stream",
     "text": [
      "313/313 [==============================] - 1s 2ms/step - loss: 1.1481\n"
     ]
    },
    {
     "data": {
      "text/plain": [
       "1.1480625867843628"
      ]
     },
     "execution_count": 66,
     "metadata": {},
     "output_type": "execute_result"
    }
   ],
   "source": [
    "Model5.evaluate(xTest, yTest)"
   ]
  },
  {
   "cell_type": "markdown",
   "id": "3d271b67",
   "metadata": {},
   "source": [
    "This regularization technique gives us an even higher loss than the dropout or early stopping methods, but it's lesss overfitting."
   ]
  },
  {
   "cell_type": "markdown",
   "id": "6ac709a2",
   "metadata": {},
   "source": [
    "### L2 Regularization"
   ]
  },
  {
   "cell_type": "code",
   "execution_count": 67,
   "id": "9934a39d",
   "metadata": {},
   "outputs": [],
   "source": [
    "Model6 = Sequential(\n",
    "    [\n",
    "        tf.keras.Input(shape=(784,)),\n",
    "        Dense(units=225 ,activation=tf.nn.relu ,name=\"hidden_layer_1\", kernel_regularizer='l2'),\n",
    "        Dense(units=256 ,activation=tf.nn.relu,name=\"hidden_layer_2\", kernel_regularizer='l2'),\n",
    "        Dense(units=128 ,activation=tf.nn.relu,name=\"hidden_layer_3\", kernel_regularizer='l2'),\n",
    "        Dense(units=10 ,activation=tf.nn.softmax,name=\"output_layer\"),\n",
    "    ],name = \"L2Model\"\n",
    ") "
   ]
  },
  {
   "cell_type": "code",
   "execution_count": 68,
   "id": "440f401b",
   "metadata": {},
   "outputs": [
    {
     "name": "stdout",
     "output_type": "stream",
     "text": [
      "Epoch 1/15\n",
      "1875/1875 [==============================] - 7s 4ms/step - loss: 5.8678\n",
      "Epoch 2/15\n",
      "1875/1875 [==============================] - 6s 3ms/step - loss: 2.0531\n",
      "Epoch 3/15\n",
      "1875/1875 [==============================] - 6s 3ms/step - loss: 0.9369\n",
      "Epoch 4/15\n",
      "1875/1875 [==============================] - 6s 3ms/step - loss: 0.6412\n",
      "Epoch 5/15\n",
      "1875/1875 [==============================] - 6s 3ms/step - loss: 0.5741\n",
      "Epoch 6/15\n",
      "1875/1875 [==============================] - 6s 3ms/step - loss: 0.5562\n",
      "Epoch 7/15\n",
      "1875/1875 [==============================] - 6s 3ms/step - loss: 0.5541\n",
      "Epoch 8/15\n",
      "1875/1875 [==============================] - 6s 3ms/step - loss: 0.5450\n",
      "Epoch 9/15\n",
      "1875/1875 [==============================] - 6s 3ms/step - loss: 0.5356\n",
      "Epoch 10/15\n",
      "1875/1875 [==============================] - 7s 4ms/step - loss: 0.5355\n",
      "Epoch 11/15\n",
      "1875/1875 [==============================] - 7s 4ms/step - loss: 0.5293\n",
      "Epoch 12/15\n",
      "1875/1875 [==============================] - 6s 3ms/step - loss: 0.5277\n",
      "Epoch 13/15\n",
      "1875/1875 [==============================] - 6s 3ms/step - loss: 0.5286\n",
      "Epoch 14/15\n",
      "1875/1875 [==============================] - 7s 4ms/step - loss: 0.5236\n",
      "Epoch 15/15\n",
      "1875/1875 [==============================] - 7s 4ms/step - loss: 0.5213\n"
     ]
    },
    {
     "data": {
      "text/plain": [
       "<keras.callbacks.History at 0x2b6150adbb0>"
      ]
     },
     "execution_count": 68,
     "metadata": {},
     "output_type": "execute_result"
    }
   ],
   "source": [
    "Model6.compile(\n",
    "    loss = \"sparse_categorical_crossentropy\",\n",
    "    optimizer = tf.keras.optimizers.Adam(0.001),\n",
    ")\n",
    "Model6.fit(\n",
    "    X,Y,\n",
    "    epochs=15,\n",
    ")"
   ]
  },
  {
   "cell_type": "code",
   "execution_count": 69,
   "id": "958bcc62",
   "metadata": {},
   "outputs": [
    {
     "name": "stdout",
     "output_type": "stream",
     "text": [
      "313/313 [==============================] - 1s 2ms/step - loss: 0.5247\n"
     ]
    },
    {
     "data": {
      "text/plain": [
       "0.5246573686599731"
      ]
     },
     "execution_count": 69,
     "metadata": {},
     "output_type": "execute_result"
    }
   ],
   "source": [
    "Model6.evaluate(xTest, yTest)"
   ]
  },
  {
   "cell_type": "markdown",
   "id": "0d41dd10",
   "metadata": {},
   "source": [
    "L2's loss is less than L1. Variance is very low, because the loss in the train and test dataset doesn't differ a lot, Which means L2 is a good regularizer."
   ]
  },
  {
   "cell_type": "markdown",
   "id": "95beec9a",
   "metadata": {},
   "source": [
    "### L1_L2 Regularization"
   ]
  },
  {
   "cell_type": "code",
   "execution_count": 5,
   "id": "1613adb2",
   "metadata": {},
   "outputs": [],
   "source": [
    "Model7 = Sequential(\n",
    "    [\n",
    "        tf.keras.Input(shape=(784,)),\n",
    "        Dense(units=225 ,activation=tf.nn.relu ,name=\"hidden_layer_1\", kernel_regularizer='l1_l2'),\n",
    "        Dense(units=256 ,activation=tf.nn.relu,name=\"hidden_layer_2\", kernel_regularizer='l1_l2'),\n",
    "        Dense(units=128 ,activation=tf.nn.relu,name=\"hidden_layer_3\", kernel_regularizer='l1_l2'),\n",
    "        Dense(units=10 ,activation=tf.nn.softmax,name=\"output_layer\"),\n",
    "    ],name = \"L1_L2Model\"\n",
    ") "
   ]
  },
  {
   "cell_type": "code",
   "execution_count": 22,
   "id": "8d2c8067",
   "metadata": {
    "scrolled": true
   },
   "outputs": [
    {
     "name": "stdout",
     "output_type": "stream",
     "text": [
      "Epoch 1/15\n",
      "1875/1875 [==============================] - 12s 6ms/step - loss: 29.9522\n",
      "Epoch 2/15\n",
      "1875/1875 [==============================] - 11s 6ms/step - loss: 2.1711\n",
      "Epoch 3/15\n",
      "1875/1875 [==============================] - 11s 6ms/step - loss: 1.3294\n",
      "Epoch 4/15\n",
      "1875/1875 [==============================] - 11s 6ms/step - loss: 1.2652\n",
      "Epoch 5/15\n",
      "1875/1875 [==============================] - 11s 6ms/step - loss: 1.2577\n",
      "Epoch 6/15\n",
      "1875/1875 [==============================] - 11s 6ms/step - loss: 1.2485\n",
      "Epoch 7/15\n",
      "1875/1875 [==============================] - 11s 6ms/step - loss: 1.2376\n",
      "Epoch 8/15\n",
      "1875/1875 [==============================] - 11s 6ms/step - loss: 1.2239\n",
      "Epoch 9/15\n",
      "1875/1875 [==============================] - 11s 6ms/step - loss: 1.2035\n",
      "Epoch 10/15\n",
      "1875/1875 [==============================] - 11s 6ms/step - loss: 1.2184\n",
      "Epoch 11/15\n",
      "1875/1875 [==============================] - 11s 6ms/step - loss: 1.1978\n",
      "Epoch 12/15\n",
      "1875/1875 [==============================] - 11s 6ms/step - loss: 1.2159\n",
      "Epoch 13/15\n",
      "1875/1875 [==============================] - 11s 6ms/step - loss: 1.1983\n",
      "Epoch 14/15\n",
      "1875/1875 [==============================] - 13s 7ms/step - loss: 1.2009\n",
      "Epoch 15/15\n",
      "1875/1875 [==============================] - 11s 6ms/step - loss: 1.2030\n"
     ]
    },
    {
     "data": {
      "text/plain": [
       "<keras.callbacks.History at 0x1dcc57bedc0>"
      ]
     },
     "execution_count": 22,
     "metadata": {},
     "output_type": "execute_result"
    }
   ],
   "source": [
    "Model7.compile(\n",
    "    loss = \"sparse_categorical_crossentropy\",\n",
    "    optimizer = tf.keras.optimizers.Adam(0.001),\n",
    ")\n",
    "Model7.fit(\n",
    "    X,Y,\n",
    "    epochs=15,\n",
    ")"
   ]
  },
  {
   "cell_type": "code",
   "execution_count": 25,
   "id": "e394e1b2",
   "metadata": {},
   "outputs": [
    {
     "name": "stdout",
     "output_type": "stream",
     "text": [
      "313/313 [==============================] - 2s 4ms/step - loss: 1.2572\n"
     ]
    },
    {
     "data": {
      "text/plain": [
       "1.2572354078292847"
      ]
     },
     "execution_count": 25,
     "metadata": {},
     "output_type": "execute_result"
    }
   ],
   "source": [
    "Model7.evaluate(xTest, yTest)"
   ]
  },
  {
   "cell_type": "markdown",
   "id": "981312c5",
   "metadata": {},
   "source": [
    "we see that the variance is low, but the loss is not good."
   ]
  },
  {
   "cell_type": "markdown",
   "id": "36392ffc",
   "metadata": {},
   "source": [
    "In general i think that L2 had the best influence on the model for avoiding overfitting."
   ]
  },
  {
   "cell_type": "code",
   "execution_count": null,
   "id": "7fd6c0a9",
   "metadata": {},
   "outputs": [],
   "source": []
  }
 ],
 "metadata": {
  "colab": {
   "collapsed_sections": [],
   "provenance": []
  },
  "kernelspec": {
   "display_name": "Python 3 (ipykernel)",
   "language": "python",
   "name": "python3"
  },
  "language_info": {
   "codemirror_mode": {
    "name": "ipython",
    "version": 3
   },
   "file_extension": ".py",
   "mimetype": "text/x-python",
   "name": "python",
   "nbconvert_exporter": "python",
   "pygments_lexer": "ipython3",
   "version": "3.9.6"
  }
 },
 "nbformat": 4,
 "nbformat_minor": 5
}
