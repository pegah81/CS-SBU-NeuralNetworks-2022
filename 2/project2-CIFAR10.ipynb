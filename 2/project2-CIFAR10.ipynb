{
 "cells": [
  {
   "cell_type": "markdown",
   "id": "631e2d0f",
   "metadata": {},
   "source": [
    "# CIFAR-10 dataset"
   ]
  },
  {
   "cell_type": "markdown",
   "id": "cfff3312",
   "metadata": {},
   "source": [
    "## Project 2 \n",
    "Pegah Givehchian - 99222089\n",
    "\n",
    "The CIFAR-10 data consists of 60,000 32x32 color images in 10 classes, with 6000 images per class. There are 50,000 training images and 10,000 test images in the official data. \n",
    "\n",
    ".The label classes in the dataset are:\n",
    "\n",
    "airplane\n",
    "automobile \n",
    "bird \n",
    "cat \n",
    "deer \n",
    "dog \n",
    "frog \n",
    "horse \n",
    "ship \n",
    "truck"
   ]
  },
  {
   "cell_type": "code",
   "execution_count": 125,
   "id": "9488e214",
   "metadata": {},
   "outputs": [],
   "source": [
    "import tensorflow as tf\n",
    "import pandas as pd\n",
    "import numpy as np\n",
    "from keras.utils import np_utils\n",
    "import matplotlib.pyplot as plt\n",
    "from tensorflow.keras.models import Sequential\n",
    "from tensorflow.keras.layers import Dense, Flatten, BatchNormalization, Dropout, Conv2D, MaxPooling2D, AveragePooling2D, GlobalAveragePooling2D\n",
    "from sklearn.metrics import confusion_matrix, classification_report\n"
   ]
  },
  {
   "cell_type": "markdown",
   "id": "6d7a65fb",
   "metadata": {},
   "source": [
    "load data "
   ]
  },
  {
   "cell_type": "code",
   "execution_count": 3,
   "id": "60d6c48e",
   "metadata": {},
   "outputs": [],
   "source": [
    "(x_train, y_train), (x_test, y_test) = tf.keras.datasets.cifar10.load_data()"
   ]
  },
  {
   "cell_type": "code",
   "execution_count": 4,
   "id": "f2864df3",
   "metadata": {},
   "outputs": [],
   "source": [
    "class_arr = [\"airplane\", \"automobile\", \"bird\", \"cat\", \"deer\", \"dog\", \"frog\", \"horse\", \"ship\", \"truck\"]"
   ]
  },
  {
   "cell_type": "markdown",
   "id": "03557992",
   "metadata": {},
   "source": [
    "x_train gives us the pixels of each image in the train group, which consists of 50000 images"
   ]
  },
  {
   "cell_type": "code",
   "execution_count": 5,
   "id": "12bbfcd2",
   "metadata": {},
   "outputs": [
    {
     "data": {
      "text/plain": [
       "(50000, 32, 32, 3)"
      ]
     },
     "execution_count": 5,
     "metadata": {},
     "output_type": "execute_result"
    }
   ],
   "source": [
    "x_train.shape"
   ]
  },
  {
   "cell_type": "code",
   "execution_count": 6,
   "id": "a3fac41a",
   "metadata": {},
   "outputs": [
    {
     "data": {
      "text/plain": [
       "(50000, 1)"
      ]
     },
     "execution_count": 6,
     "metadata": {},
     "output_type": "execute_result"
    }
   ],
   "source": [
    "y_train.shape"
   ]
  },
  {
   "cell_type": "markdown",
   "id": "8e7c7453",
   "metadata": {},
   "source": [
    "y_train gives us an array of the group of the images, and each is a number from 0 to 9"
   ]
  },
  {
   "cell_type": "code",
   "execution_count": 7,
   "id": "86b7b7dd",
   "metadata": {},
   "outputs": [
    {
     "data": {
      "text/plain": [
       "array([[6],\n",
       "       [9],\n",
       "       [9],\n",
       "       ...,\n",
       "       [9],\n",
       "       [1],\n",
       "       [1]], dtype=uint8)"
      ]
     },
     "execution_count": 7,
     "metadata": {},
     "output_type": "execute_result"
    }
   ],
   "source": [
    "y_train"
   ]
  },
  {
   "cell_type": "markdown",
   "id": "23adb69e",
   "metadata": {},
   "source": [
    "It is better if we turn th emultiple arrays for y, into one single 1D array"
   ]
  },
  {
   "cell_type": "code",
   "execution_count": 8,
   "id": "32b3ed8c",
   "metadata": {},
   "outputs": [
    {
     "data": {
      "text/plain": [
       "array([6, 9, 9, ..., 9, 1, 1], dtype=uint8)"
      ]
     },
     "execution_count": 8,
     "metadata": {},
     "output_type": "execute_result"
    }
   ],
   "source": [
    "y_train = y_train.reshape(-1,)\n",
    "y_train"
   ]
  },
  {
   "cell_type": "markdown",
   "id": "880a4b67",
   "metadata": {},
   "source": [
    "I created a function that plots the sample which is given in the parameters, and shows the class as the label."
   ]
  },
  {
   "cell_type": "code",
   "execution_count": 9,
   "id": "550c4e64",
   "metadata": {},
   "outputs": [],
   "source": [
    "def plot_image(x,y,index):\n",
    "    plt.figure(figsize = (10,2))\n",
    "    plt.xlabel(class_arr[y_train[index]])\n",
    "    plt.imshow(x[index])"
   ]
  },
  {
   "cell_type": "code",
   "execution_count": 10,
   "id": "3932d694",
   "metadata": {},
   "outputs": [
    {
     "data": {
      "image/png": "[encoded data removed]",
      "text/plain": [
       "<Figure size 1000x200 with 1 Axes>"
      ]
     },
     "metadata": {},
     "output_type": "display_data"
    }
   ],
   "source": [
    "plot_image(x_train,y_train,50)"
   ]
  },
  {
   "cell_type": "code",
   "execution_count": 11,
   "id": "fcfd26ff",
   "metadata": {},
   "outputs": [
    {
     "data": {
      "image/png": "[encoded data removed]",
      "text/plain": [
       "<Figure size 1000x200 with 1 Axes>"
      ]
     },
     "metadata": {},
     "output_type": "display_data"
    }
   ],
   "source": [
    "plot_image(x_train,y_train,51)"
   ]
  },
  {
   "cell_type": "markdown",
   "id": "ed21576b",
   "metadata": {},
   "source": [
    "I'm gonna normalize the data for better results, so i divide all the data by 255 which is the max value of a byte. The value varies from 0 - 255 for each of the channels, R, G and B."
   ]
  },
  {
   "cell_type": "code",
   "execution_count": 12,
   "id": "d7b52208",
   "metadata": {},
   "outputs": [],
   "source": [
    "x_train = x_train/255\n",
    "x_test = x_test/255"
   ]
  },
  {
   "cell_type": "markdown",
   "id": "e9592f1d",
   "metadata": {},
   "source": [
    "### Modeling MLP"
   ]
  },
  {
   "cell_type": "code",
   "execution_count": 126,
   "id": "86fd3a25",
   "metadata": {},
   "outputs": [],
   "source": [
    "simpleModel = Sequential([\n",
    "    Flatten(input_shape=(32,32,3)),\n",
    "    Dense(units=225 ,activation='relu' ,name=\"hidden_layer_1\"),\n",
    "    Dense(units=1000 ,activation='relu' ,name=\"hidden_layer_2\"),\n",
    "    Dense(units=3000 ,activation='relu' ,name=\"hidden_layer_3\"),\n",
    "    Dense(units=10 ,activation='sigmoid' ,name=\"output_layer_4\"),\n",
    "])"
   ]
  },
  {
   "cell_type": "code",
   "execution_count": 127,
   "id": "5054f75b",
   "metadata": {},
   "outputs": [
    {
     "name": "stdout",
     "output_type": "stream",
     "text": [
      "Epoch 1/5\n",
      "1563/1563 [==============================] - 27s 17ms/step - loss: 1.9120 - accuracy: 0.3119\n",
      "Epoch 2/5\n",
      "1563/1563 [==============================] - 34s 22ms/step - loss: 1.6988 - accuracy: 0.3951\n",
      "Epoch 3/5\n",
      "1563/1563 [==============================] - 30s 19ms/step - loss: 1.6098 - accuracy: 0.4255\n",
      "Epoch 4/5\n",
      "1563/1563 [==============================] - 36s 23ms/step - loss: 1.5433 - accuracy: 0.4526\n",
      "Epoch 5/5\n",
      "1563/1563 [==============================] - 41s 26ms/step - loss: 1.4973 - accuracy: 0.4691\n"
     ]
    },
    {
     "data": {
      "text/plain": [
       "<keras.callbacks.History at 0x22ad68d22b0>"
      ]
     },
     "execution_count": 127,
     "metadata": {},
     "output_type": "execute_result"
    }
   ],
   "source": [
    "simpleModel.compile(\n",
    "    optimizer=\"SGD\",\n",
    "    loss = \"sparse_categorical_crossentropy\",\n",
    "    metrics = ['accuracy'] #accuracy describes how a model generally performs. \n",
    "    #It's useful when classes are of equal importance in our classification.\n",
    ")\n",
    "\n",
    "simpleModel.fit(x_train, y_train, epochs=5)"
   ]
  },
  {
   "cell_type": "code",
   "execution_count": 128,
   "id": "46b2fccc",
   "metadata": {},
   "outputs": [
    {
     "name": "stdout",
     "output_type": "stream",
     "text": [
      "313/313 [==============================] - 2s 7ms/step - loss: 1.4980 - accuracy: 0.4642\n"
     ]
    },
    {
     "data": {
      "text/plain": [
       "[1.4979604482650757, 0.4641999900341034]"
      ]
     },
     "execution_count": 128,
     "metadata": {},
     "output_type": "execute_result"
    }
   ],
   "source": [
    "simpleModel.evaluate(x_test,y_test)"
   ]
  },
  {
   "cell_type": "code",
   "execution_count": 129,
   "id": "1a6ccf3e",
   "metadata": {},
   "outputs": [
    {
     "name": "stdout",
     "output_type": "stream",
     "text": [
      "313/313 [==============================] - 2s 7ms/step\n",
      "              precision    recall  f1-score   support\n",
      "\n",
      "           0       0.52      0.59      0.55      1000\n",
      "           1       0.60      0.59      0.60      1000\n",
      "           2       0.30      0.42      0.35      1000\n",
      "           3       0.31      0.40      0.35      1000\n",
      "           4       0.51      0.17      0.26      1000\n",
      "           5       0.43      0.27      0.33      1000\n",
      "           6       0.40      0.69      0.51      1000\n",
      "           7       0.68      0.35      0.46      1000\n",
      "           8       0.61      0.63      0.62      1000\n",
      "           9       0.55      0.53      0.54      1000\n",
      "\n",
      "    accuracy                           0.46     10000\n",
      "   macro avg       0.49      0.46      0.46     10000\n",
      "weighted avg       0.49      0.46      0.46     10000\n",
      "\n"
     ]
    }
   ],
   "source": [
    "prediction = simpleModel.predict(x_test)\n",
    "predict_class = [np.argmax(element) for element in prediction]\n",
    "print(classification_report(y_test, predict_class))"
   ]
  },
  {
   "cell_type": "markdown",
   "id": "b504fb80",
   "metadata": {},
   "source": [
    "### Modeling CNN"
   ]
  },
  {
   "cell_type": "markdown",
   "id": "f071e67b",
   "metadata": {},
   "source": [
    "We use less layers and less neurons, because the CNN will do the work."
   ]
  },
  {
   "cell_type": "code",
   "execution_count": 22,
   "id": "6fcfe2d3",
   "metadata": {},
   "outputs": [],
   "source": [
    "simpleModel_cnn = Sequential([\n",
    "    Conv2D(filters=32, activation='relu', kernel_size=(3,3), input_shape=(32,32,3), name=\"conv2D_layer_1\"),\n",
    "    MaxPooling2D((2,2)),\n",
    "    Conv2D(filters=32, activation='relu', kernel_size=(3,3), name=\"conv2D_layer_2\"),\n",
    "    MaxPooling2D((2,2)),\n",
    "    Flatten(input_shape=(32,32,3)),\n",
    "    Dense(units=225, activation='relu', name=\"hidden_layer_1\"),\n",
    "    Dense(units=10, activation='softmax', name=\"output_layer\"),\n",
    "])"
   ]
  },
  {
   "cell_type": "code",
   "execution_count": 23,
   "id": "83f803ac",
   "metadata": {},
   "outputs": [
    {
     "name": "stdout",
     "output_type": "stream",
     "text": [
      "Epoch 1/5\n",
      "1563/1563 [==============================] - 49s 31ms/step - loss: 1.4533 - accuracy: 0.4771\n",
      "Epoch 2/5\n",
      "1563/1563 [==============================] - 47s 30ms/step - loss: 1.1184 - accuracy: 0.6067\n",
      "Epoch 3/5\n",
      "1563/1563 [==============================] - 48s 30ms/step - loss: 0.9603 - accuracy: 0.6648\n",
      "Epoch 4/5\n",
      "1563/1563 [==============================] - 48s 31ms/step - loss: 0.8481 - accuracy: 0.7063\n",
      "Epoch 5/5\n",
      "1563/1563 [==============================] - 48s 31ms/step - loss: 0.7598 - accuracy: 0.7369\n"
     ]
    },
    {
     "data": {
      "text/plain": [
       "<keras.callbacks.History at 0x22ab50fddc0>"
      ]
     },
     "execution_count": 23,
     "metadata": {},
     "output_type": "execute_result"
    }
   ],
   "source": [
    "simpleModel_cnn.compile(\n",
    "    optimizer=\"adam\",\n",
    "    loss = \"sparse_categorical_crossentropy\",\n",
    "    metrics = ['accuracy'] #accuracy counts how often the predictions equal the labels\n",
    ")\n",
    "\n",
    "simpleModel_cnn.fit(x_train, y_train, epochs=5)"
   ]
  },
  {
   "cell_type": "markdown",
   "id": "97312797",
   "metadata": {},
   "source": [
    "We see that by using cnn, even though we used less neurons and layers, the loss was half as much, in comparison to our mlp model"
   ]
  },
  {
   "cell_type": "code",
   "execution_count": 25,
   "id": "e375d286",
   "metadata": {},
   "outputs": [
    {
     "name": "stdout",
     "output_type": "stream",
     "text": [
      "313/313 [==============================] - 4s 13ms/step - loss: 0.9230 - accuracy: 0.6890\n"
     ]
    },
    {
     "data": {
      "text/plain": [
       "[0.9229924082756042, 0.6890000104904175]"
      ]
     },
     "execution_count": 25,
     "metadata": {},
     "output_type": "execute_result"
    }
   ],
   "source": [
    "simpleModel_cnn.evaluate(x_test,y_test)"
   ]
  },
  {
   "cell_type": "markdown",
   "id": "a559ee39",
   "metadata": {},
   "source": [
    "Even with our testing data, the loss has decreased significantly"
   ]
  },
  {
   "cell_type": "code",
   "execution_count": null,
   "id": "b40dcddd",
   "metadata": {},
   "outputs": [],
   "source": [
    "prediction = simpleModel_cnn.predict(x_test)\n",
    "predict_class = [np.argmax(element) for element in prediction]\n",
    "print(classification_report(y_test, predict_class))"
   ]
  },
  {
   "cell_type": "markdown",
   "id": "3724fb5d",
   "metadata": {},
   "source": [
    "We see that our average precision and recall has increased, which means that the general performance is better,\n",
    "precision being the count of instances that were correctly predicted in a label, given all the predicted labels,\n",
    "and recall being the count of correctly predicted instances, given all the actual instances of a class."
   ]
  },
  {
   "cell_type": "markdown",
   "id": "6b09ff68",
   "metadata": {},
   "source": [
    "### Depth Effect"
   ]
  },
  {
   "cell_type": "code",
   "execution_count": 29,
   "id": "049d4abc",
   "metadata": {},
   "outputs": [],
   "source": [
    "cnnModel1 = Sequential([\n",
    "    Conv2D(filters=32, activation='relu', kernel_size=(3,3), input_shape=(32,32,3), name=\"conv2D_layer_1\"),\n",
    "    MaxPooling2D((2,2)),\n",
    "    Conv2D(filters=32, activation='relu', kernel_size=(3,3), name=\"conv2D_layer_2\"),\n",
    "    MaxPooling2D((2,2)),\n",
    "    Conv2D(filters=32, activation='relu', kernel_size=(3,3), name=\"conv2D_layer_3\"),\n",
    "    MaxPooling2D((2,2)),\n",
    "    Flatten(input_shape=(32,32,3)),\n",
    "    Dense(units=225, activation='relu', name=\"hidden_layer_1\"),\n",
    "    Dense(units=10, activation='softmax', name=\"output_layer\"),\n",
    "])"
   ]
  },
  {
   "cell_type": "code",
   "execution_count": 30,
   "id": "52694f5d",
   "metadata": {},
   "outputs": [
    {
     "name": "stdout",
     "output_type": "stream",
     "text": [
      "Epoch 1/5\n",
      "1563/1563 [==============================] - 24s 15ms/step - loss: 0.6807 - accuracy: 0.7639\n",
      "Epoch 2/5\n",
      "1563/1563 [==============================] - 31s 20ms/step - loss: 0.6073 - accuracy: 0.7853\n",
      "Epoch 3/5\n",
      "1563/1563 [==============================] - 30s 19ms/step - loss: 0.5393 - accuracy: 0.8107\n",
      "Epoch 4/5\n",
      "1563/1563 [==============================] - 29s 19ms/step - loss: 0.4765 - accuracy: 0.8317\n",
      "Epoch 5/5\n",
      "1563/1563 [==============================] - 31s 20ms/step - loss: 0.4147 - accuracy: 0.8549\n"
     ]
    },
    {
     "data": {
      "text/plain": [
       "<keras.callbacks.History at 0x22ab6d7f7c0>"
      ]
     },
     "execution_count": 30,
     "metadata": {},
     "output_type": "execute_result"
    }
   ],
   "source": [
    "cnnModel1.compile(\n",
    "    optimizer=\"adam\",\n",
    "    loss = \"sparse_categorical_crossentropy\",\n",
    "    metrics = ['accuracy'] \n",
    ")\n",
    "\n",
    "cnnModel1.fit(x_train, y_train, epochs=5)"
   ]
  },
  {
   "cell_type": "code",
   "execution_count": 31,
   "id": "a407e9d4",
   "metadata": {},
   "outputs": [
    {
     "name": "stdout",
     "output_type": "stream",
     "text": [
      "313/313 [==============================] - 3s 9ms/step - loss: 2.3072 - accuracy: 0.1018\n"
     ]
    },
    {
     "data": {
      "text/plain": [
       "[2.30716609954834, 0.10180000215768814]"
      ]
     },
     "execution_count": 31,
     "metadata": {},
     "output_type": "execute_result"
    }
   ],
   "source": [
    "cnnModel1.evaluate(x_test,y_test)"
   ]
  },
  {
   "cell_type": "markdown",
   "id": "e01f7bad",
   "metadata": {},
   "source": [
    "We see that the loss has significantly increased, which means that our model is probably overfitting. \n",
    "The accuracy has decreased too, Although it has increased in the training set.\n",
    "So in general it is a good sign, and means that the model is more accurate."
   ]
  },
  {
   "cell_type": "markdown",
   "id": "a63f547f",
   "metadata": {},
   "source": [
    "### Different Architectures\n"
   ]
  },
  {
   "cell_type": "markdown",
   "id": "ece6c3e6",
   "metadata": {},
   "source": [
    "The first one is a normal model with one convolutional layer and a 3*3 filter and relu function as our activation function"
   ]
  },
  {
   "cell_type": "code",
   "execution_count": 92,
   "id": "180f8ecd",
   "metadata": {},
   "outputs": [],
   "source": [
    "cnnModel2 = Sequential([\n",
    "    Conv2D(filters=32, activation='relu', kernel_size=(3,3), input_shape=(32,32,3), name=\"conv2D_layer_1\"),\n",
    "    MaxPooling2D((2,2)),\n",
    "    Flatten(input_shape=(32,32,3)),\n",
    "    Dense(units=225, activation='relu', name=\"hidden_layer_1\"),\n",
    "    Dense(units=10, activation='softmax', name=\"output_layer\"),\n",
    "])"
   ]
  },
  {
   "cell_type": "code",
   "execution_count": 93,
   "id": "46fd66ed",
   "metadata": {},
   "outputs": [
    {
     "name": "stdout",
     "output_type": "stream",
     "text": [
      "Epoch 1/10\n",
      "1563/1563 [==============================] - 26s 17ms/step - loss: 1.4337 - accuracy: 0.4901\n",
      "Epoch 2/10\n",
      "1563/1563 [==============================] - 26s 16ms/step - loss: 1.1322 - accuracy: 0.6019\n",
      "Epoch 3/10\n",
      "1563/1563 [==============================] - 27s 17ms/step - loss: 0.9965 - accuracy: 0.6517\n",
      "Epoch 4/10\n",
      "1563/1563 [==============================] - 27s 17ms/step - loss: 0.8891 - accuracy: 0.6908\n",
      "Epoch 5/10\n",
      "1563/1563 [==============================] - 28s 18ms/step - loss: 0.8028 - accuracy: 0.7180\n",
      "Epoch 6/10\n",
      "1563/1563 [==============================] - 30s 19ms/step - loss: 0.7199 - accuracy: 0.7470\n",
      "Epoch 7/10\n",
      "1563/1563 [==============================] - 33s 21ms/step - loss: 0.6433 - accuracy: 0.7727\n",
      "Epoch 8/10\n",
      "1563/1563 [==============================] - 33s 21ms/step - loss: 0.5719 - accuracy: 0.8005\n",
      "Epoch 9/10\n",
      "1563/1563 [==============================] - 36s 23ms/step - loss: 0.5048 - accuracy: 0.8237\n",
      "Epoch 10/10\n",
      "1563/1563 [==============================] - 50s 32ms/step - loss: 0.4393 - accuracy: 0.8473\n"
     ]
    },
    {
     "data": {
      "text/plain": [
       "<keras.callbacks.History at 0x22ad9e41c70>"
      ]
     },
     "execution_count": 93,
     "metadata": {},
     "output_type": "execute_result"
    }
   ],
   "source": [
    "cnnModel2.compile(\n",
    "    optimizer=\"adam\",\n",
    "    loss = \"sparse_categorical_crossentropy\",\n",
    "    metrics = ['accuracy']\n",
    ")\n",
    "\n",
    "cnnModel2.fit(x_train, y_train, epochs=10)"
   ]
  },
  {
   "cell_type": "code",
   "execution_count": 94,
   "id": "048320e7",
   "metadata": {},
   "outputs": [
    {
     "name": "stdout",
     "output_type": "stream",
     "text": [
      "313/313 [==============================] - 4s 11ms/step - loss: 1.2142 - accuracy: 0.6443\n"
     ]
    },
    {
     "data": {
      "text/plain": [
       "[1.2142307758331299, 0.6442999839782715]"
      ]
     },
     "execution_count": 94,
     "metadata": {},
     "output_type": "execute_result"
    }
   ],
   "source": [
    "cnnModel2.evaluate(x_test,y_test)"
   ]
  },
  {
   "cell_type": "markdown",
   "id": "36df8bae",
   "metadata": {},
   "source": [
    "We set our filter to 64 to see the impact"
   ]
  },
  {
   "cell_type": "code",
   "execution_count": 71,
   "id": "a24e2d9c",
   "metadata": {},
   "outputs": [],
   "source": [
    "cnnModel3 = Sequential([\n",
    "    Conv2D(filters=64, activation='relu', kernel_size=(3,3), input_shape=(32,32,3), name=\"conv2D_layer_1\"),\n",
    "    MaxPooling2D((2,2)),\n",
    "    Flatten(input_shape=(32,32,3)),\n",
    "    Dense(units=225, activation='relu', name=\"hidden_layer_1\"),\n",
    "    Dense(units=10, activation='softmax', name=\"output_layer\"),\n",
    "])"
   ]
  },
  {
   "cell_type": "code",
   "execution_count": 72,
   "id": "7adfe886",
   "metadata": {},
   "outputs": [
    {
     "name": "stdout",
     "output_type": "stream",
     "text": [
      "Epoch 1/5\n",
      "1563/1563 [==============================] - 49s 31ms/step - loss: 1.4463 - accuracy: 0.4841\n",
      "Epoch 2/5\n",
      "1563/1563 [==============================] - 49s 31ms/step - loss: 1.1122 - accuracy: 0.6114\n",
      "Epoch 3/5\n",
      "1563/1563 [==============================] - 50s 32ms/step - loss: 0.9791 - accuracy: 0.6607\n",
      "Epoch 4/5\n",
      "1563/1563 [==============================] - 50s 32ms/step - loss: 0.8817 - accuracy: 0.6913\n",
      "Epoch 5/5\n",
      "1563/1563 [==============================] - 48s 31ms/step - loss: 0.8033 - accuracy: 0.7185\n"
     ]
    },
    {
     "data": {
      "text/plain": [
       "<keras.callbacks.History at 0x22acf2434f0>"
      ]
     },
     "execution_count": 72,
     "metadata": {},
     "output_type": "execute_result"
    }
   ],
   "source": [
    "cnnModel3.compile(\n",
    "    optimizer=\"adam\",\n",
    "    loss = \"sparse_categorical_crossentropy\",\n",
    "    metrics = ['accuracy'] \n",
    ")\n",
    "\n",
    "cnnModel3.fit(x_train, y_train, epochs=5)"
   ]
  },
  {
   "cell_type": "code",
   "execution_count": 73,
   "id": "8f47bda6",
   "metadata": {},
   "outputs": [
    {
     "name": "stdout",
     "output_type": "stream",
     "text": [
      "313/313 [==============================] - 4s 12ms/step - loss: 1.0963 - accuracy: 0.6212\n"
     ]
    },
    {
     "data": {
      "text/plain": [
       "[1.0963159799575806, 0.6212000250816345]"
      ]
     },
     "execution_count": 73,
     "metadata": {},
     "output_type": "execute_result"
    }
   ],
   "source": [
    "cnnModel3.evaluate(x_test,y_test)"
   ]
  },
  {
   "cell_type": "markdown",
   "id": "17378b94",
   "metadata": {},
   "source": [
    "We see that in both testing and training set, our loss has increased which is a bad sign.\n",
    "Now we set the kernel size to a 2*2 matrix."
   ]
  },
  {
   "cell_type": "code",
   "execution_count": 74,
   "id": "5a5532ed",
   "metadata": {},
   "outputs": [],
   "source": [
    "cnnModel4 = Sequential([\n",
    "    Conv2D(filters=32, activation='relu', kernel_size=(2,2), input_shape=(32,32,3), name=\"conv2D_layer_1\"),\n",
    "    MaxPooling2D((2,2)),\n",
    "    Flatten(input_shape=(32,32,3)),\n",
    "    Dense(units=225, activation='relu', name=\"hidden_layer_1\"),\n",
    "    Dense(units=10, activation='softmax', name=\"output_layer\"),\n",
    "])"
   ]
  },
  {
   "cell_type": "code",
   "execution_count": 75,
   "id": "e789cd1b",
   "metadata": {},
   "outputs": [
    {
     "name": "stdout",
     "output_type": "stream",
     "text": [
      "Epoch 1/5\n",
      "1563/1563 [==============================] - 25s 16ms/step - loss: 1.4401 - accuracy: 0.4879\n",
      "Epoch 2/5\n",
      "1563/1563 [==============================] - 26s 17ms/step - loss: 1.1436 - accuracy: 0.5997\n",
      "Epoch 3/5\n",
      "1563/1563 [==============================] - 26s 17ms/step - loss: 1.0169 - accuracy: 0.6434\n",
      "Epoch 4/5\n",
      "1563/1563 [==============================] - 25s 16ms/step - loss: 0.9190 - accuracy: 0.6768\n",
      "Epoch 5/5\n",
      "1563/1563 [==============================] - 27s 17ms/step - loss: 0.8363 - accuracy: 0.7065\n"
     ]
    },
    {
     "data": {
      "text/plain": [
       "<keras.callbacks.History at 0x22ad8f3e040>"
      ]
     },
     "execution_count": 75,
     "metadata": {},
     "output_type": "execute_result"
    }
   ],
   "source": [
    "cnnModel4.compile(\n",
    "    optimizer=\"adam\",\n",
    "    loss = \"sparse_categorical_crossentropy\",\n",
    "    metrics = ['accuracy'] \n",
    ")\n",
    "\n",
    "cnnModel4.fit(x_train, y_train, epochs=5)"
   ]
  },
  {
   "cell_type": "code",
   "execution_count": 76,
   "id": "02c09e43",
   "metadata": {},
   "outputs": [
    {
     "name": "stdout",
     "output_type": "stream",
     "text": [
      "313/313 [==============================] - 2s 7ms/step - loss: 1.0594 - accuracy: 0.6355\n"
     ]
    },
    {
     "data": {
      "text/plain": [
       "[1.0594440698623657, 0.6355000138282776]"
      ]
     },
     "execution_count": 76,
     "metadata": {},
     "output_type": "execute_result"
    }
   ],
   "source": [
    "cnnModel4.evaluate(x_test,y_test)"
   ]
  },
  {
   "cell_type": "markdown",
   "id": "f920da92",
   "metadata": {},
   "source": [
    "Again we see that the accuracy has decreased and it didn't have a good effect."
   ]
  },
  {
   "cell_type": "markdown",
   "id": "682ef120",
   "metadata": {},
   "source": [
    "We set our activation function to leaky relu to see the effect"
   ]
  },
  {
   "cell_type": "code",
   "execution_count": 77,
   "id": "788f6270",
   "metadata": {},
   "outputs": [],
   "source": [
    "cnnModel5 = Sequential([\n",
    "    Conv2D(filters=32, activation='leaky_relu', kernel_size=(3,3), input_shape=(32,32,3), name=\"conv2D_layer_1\"),\n",
    "    MaxPooling2D((2,2)),\n",
    "    Flatten(),\n",
    "    Dense(units=225, activation='relu', name=\"hidden_layer_1\"),\n",
    "    Dense(units=10, activation='softmax', name=\"output_layer\"),\n",
    "])"
   ]
  },
  {
   "cell_type": "code",
   "execution_count": 95,
   "id": "45807228",
   "metadata": {},
   "outputs": [
    {
     "name": "stdout",
     "output_type": "stream",
     "text": [
      "Epoch 1/10\n",
      "1563/1563 [==============================] - 28s 17ms/step - loss: 0.4002 - accuracy: 0.8631\n",
      "Epoch 2/10\n",
      "1563/1563 [==============================] - 28s 18ms/step - loss: 0.2761 - accuracy: 0.9073\n",
      "Epoch 3/10\n",
      "1563/1563 [==============================] - 30s 19ms/step - loss: 0.2014 - accuracy: 0.9335\n",
      "Epoch 4/10\n",
      "1563/1563 [==============================] - 31s 20ms/step - loss: 0.1516 - accuracy: 0.9499\n",
      "Epoch 5/10\n",
      "1563/1563 [==============================] - 34s 22ms/step - loss: 0.1240 - accuracy: 0.9590\n",
      "Epoch 6/10\n",
      "1563/1563 [==============================] - 37s 24ms/step - loss: 0.1051 - accuracy: 0.9657\n",
      "Epoch 7/10\n",
      "1563/1563 [==============================] - 37s 24ms/step - loss: 0.0951 - accuracy: 0.9681\n",
      "Epoch 8/10\n",
      "1563/1563 [==============================] - 35s 22ms/step - loss: 0.0816 - accuracy: 0.9719\n",
      "Epoch 9/10\n",
      "1563/1563 [==============================] - 35s 22ms/step - loss: 0.0806 - accuracy: 0.9731\n",
      "Epoch 10/10\n",
      "1563/1563 [==============================] - 35s 22ms/step - loss: 0.0741 - accuracy: 0.9751\n"
     ]
    },
    {
     "data": {
      "text/plain": [
       "<keras.callbacks.History at 0x22ad9fb5be0>"
      ]
     },
     "execution_count": 95,
     "metadata": {},
     "output_type": "execute_result"
    }
   ],
   "source": [
    "cnnModel5.compile(\n",
    "    optimizer=\"adam\",\n",
    "    loss = \"sparse_categorical_crossentropy\",\n",
    "    metrics = ['accuracy'] \n",
    ")\n",
    "\n",
    "cnnModel5.fit(x_train, y_train, epochs=10)"
   ]
  },
  {
   "cell_type": "code",
   "execution_count": 96,
   "id": "25cb1891",
   "metadata": {},
   "outputs": [
    {
     "name": "stdout",
     "output_type": "stream",
     "text": [
      "313/313 [==============================] - 3s 9ms/step - loss: 2.2981 - accuracy: 0.6427\n"
     ]
    },
    {
     "data": {
      "text/plain": [
       "[2.298130989074707, 0.6427000164985657]"
      ]
     },
     "execution_count": 96,
     "metadata": {},
     "output_type": "execute_result"
    }
   ],
   "source": [
    "cnnModel5.evaluate(x_test,y_test)"
   ]
  },
  {
   "cell_type": "markdown",
   "id": "fd1e9d66",
   "metadata": {},
   "source": [
    "Accuracy in training set has increased, but overfitting has happened because the loss in our testing set has doubled."
   ]
  },
  {
   "cell_type": "markdown",
   "id": "09b76a5c",
   "metadata": {},
   "source": [
    "max pooling with (3,3) matrices"
   ]
  },
  {
   "cell_type": "code",
   "execution_count": 97,
   "id": "6a03ed06",
   "metadata": {},
   "outputs": [],
   "source": [
    "cnnModel6 = Sequential([\n",
    "    Conv2D(filters=32, activation='relu', kernel_size=(3,3), input_shape=(32,32,3), name=\"conv2D_layer_1\"),\n",
    "    MaxPooling2D((3,3)),\n",
    "    Flatten(),\n",
    "    Dense(units=225, activation='relu', name=\"hidden_layer_1\"),\n",
    "    Dense(units=10, activation='softmax', name=\"output_layer\"),\n",
    "])"
   ]
  },
  {
   "cell_type": "code",
   "execution_count": 98,
   "id": "8eeed64d",
   "metadata": {},
   "outputs": [
    {
     "name": "stdout",
     "output_type": "stream",
     "text": [
      "Epoch 1/10\n",
      "1563/1563 [==============================] - 25s 16ms/step - loss: 1.4073 - accuracy: 0.5016\n",
      "Epoch 2/10\n",
      "1563/1563 [==============================] - 25s 16ms/step - loss: 1.1055 - accuracy: 0.6119\n",
      "Epoch 3/10\n",
      "1563/1563 [==============================] - 25s 16ms/step - loss: 0.9676 - accuracy: 0.6621\n",
      "Epoch 4/10\n",
      "1563/1563 [==============================] - 25s 16ms/step - loss: 0.8787 - accuracy: 0.6948\n",
      "Epoch 5/10\n",
      "1563/1563 [==============================] - 24s 16ms/step - loss: 0.7952 - accuracy: 0.7230\n",
      "Epoch 6/10\n",
      "1563/1563 [==============================] - 25s 16ms/step - loss: 0.7232 - accuracy: 0.7485\n",
      "Epoch 7/10\n",
      "1563/1563 [==============================] - 25s 16ms/step - loss: 0.6591 - accuracy: 0.7689\n",
      "Epoch 8/10\n",
      "1563/1563 [==============================] - 26s 16ms/step - loss: 0.5906 - accuracy: 0.7936\n",
      "Epoch 9/10\n",
      "1563/1563 [==============================] - 25s 16ms/step - loss: 0.5309 - accuracy: 0.8162\n",
      "Epoch 10/10\n",
      "1563/1563 [==============================] - 25s 16ms/step - loss: 0.4738 - accuracy: 0.8356\n"
     ]
    },
    {
     "data": {
      "text/plain": [
       "<keras.callbacks.History at 0x22aee4c4cd0>"
      ]
     },
     "execution_count": 98,
     "metadata": {},
     "output_type": "execute_result"
    }
   ],
   "source": [
    "cnnModel6.compile(\n",
    "    optimizer=\"adam\",\n",
    "    loss = \"sparse_categorical_crossentropy\",\n",
    "    metrics = ['accuracy']\n",
    ")\n",
    "\n",
    "cnnModel6.fit(x_train, y_train, epochs=10)"
   ]
  },
  {
   "cell_type": "code",
   "execution_count": 99,
   "id": "d4fd36d8",
   "metadata": {},
   "outputs": [
    {
     "name": "stdout",
     "output_type": "stream",
     "text": [
      "313/313 [==============================] - 2s 7ms/step - loss: 1.0461 - accuracy: 0.6780\n"
     ]
    },
    {
     "data": {
      "text/plain": [
       "[1.0460742712020874, 0.6779999732971191]"
      ]
     },
     "execution_count": 99,
     "metadata": {},
     "output_type": "execute_result"
    }
   ],
   "source": [
    "cnnModel6.evaluate(x_test,y_test)"
   ]
  },
  {
   "cell_type": "markdown",
   "id": "906428f7",
   "metadata": {},
   "source": [
    "although the result wasn't as accurate for our training set, but the testing set has given us a better loss and accuracy."
   ]
  },
  {
   "cell_type": "markdown",
   "id": "3ccdd509",
   "metadata": {},
   "source": [
    "max pooling with (4,4) matrices"
   ]
  },
  {
   "cell_type": "code",
   "execution_count": 100,
   "id": "2581f248",
   "metadata": {},
   "outputs": [],
   "source": [
    "cnnModel7 = Sequential([\n",
    "    Conv2D(filters=32, activation='relu', kernel_size=(3,3), input_shape=(32,32,3), name=\"conv2D_layer_1\"),\n",
    "    MaxPooling2D((4,4)),\n",
    "    Flatten(),\n",
    "    Dense(units=225, activation='relu', name=\"hidden_layer_1\"),\n",
    "    Dense(units=10, activation='softmax', name=\"output_layer\"),\n",
    "])"
   ]
  },
  {
   "cell_type": "code",
   "execution_count": 101,
   "id": "59f76363",
   "metadata": {},
   "outputs": [
    {
     "name": "stdout",
     "output_type": "stream",
     "text": [
      "Epoch 1/10\n",
      "1563/1563 [==============================] - 21s 13ms/step - loss: 1.4519 - accuracy: 0.4823\n",
      "Epoch 2/10\n",
      "1563/1563 [==============================] - 38s 25ms/step - loss: 1.1704 - accuracy: 0.5883\n",
      "Epoch 3/10\n",
      "1563/1563 [==============================] - 29s 19ms/step - loss: 1.0463 - accuracy: 0.6317\n",
      "Epoch 4/10\n",
      "1563/1563 [==============================] - 26s 17ms/step - loss: 0.9564 - accuracy: 0.6681\n",
      "Epoch 5/10\n",
      "1563/1563 [==============================] - 22s 14ms/step - loss: 0.8902 - accuracy: 0.6902\n",
      "Epoch 6/10\n",
      "1563/1563 [==============================] - 21s 13ms/step - loss: 0.8263 - accuracy: 0.7115\n",
      "Epoch 7/10\n",
      "1563/1563 [==============================] - 20s 13ms/step - loss: 0.7741 - accuracy: 0.7315\n",
      "Epoch 8/10\n",
      "1563/1563 [==============================] - 21s 14ms/step - loss: 0.7254 - accuracy: 0.7468\n",
      "Epoch 9/10\n",
      "1563/1563 [==============================] - 22s 14ms/step - loss: 0.6827 - accuracy: 0.7621\n",
      "Epoch 10/10\n",
      "1563/1563 [==============================] - 21s 14ms/step - loss: 0.6424 - accuracy: 0.7746\n"
     ]
    },
    {
     "data": {
      "text/plain": [
       "<keras.callbacks.History at 0x22ad92fc0a0>"
      ]
     },
     "execution_count": 101,
     "metadata": {},
     "output_type": "execute_result"
    }
   ],
   "source": [
    "cnnModel7.compile(\n",
    "    optimizer=\"adam\",\n",
    "    loss = \"sparse_categorical_crossentropy\",\n",
    "    metrics = ['accuracy']\n",
    ")\n",
    "\n",
    "cnnModel7.fit(x_train, y_train, epochs=10)"
   ]
  },
  {
   "cell_type": "code",
   "execution_count": 102,
   "id": "fb6791a7",
   "metadata": {},
   "outputs": [
    {
     "name": "stdout",
     "output_type": "stream",
     "text": [
      "313/313 [==============================] - 2s 6ms/step - loss: 0.9615 - accuracy: 0.6807\n"
     ]
    },
    {
     "data": {
      "text/plain": [
       "[0.9614757895469666, 0.6807000041007996]"
      ]
     },
     "execution_count": 102,
     "metadata": {},
     "output_type": "execute_result"
    }
   ],
   "source": [
    "cnnModel7.evaluate(x_test,y_test)"
   ]
  },
  {
   "cell_type": "markdown",
   "id": "6ac26871",
   "metadata": {},
   "source": [
    "Again even though the model isn't fitting the training set as well, but the testing set is giving significantly better \n",
    "results, so increasing the size of our pooling matrix has a good impact."
   ]
  },
  {
   "cell_type": "markdown",
   "id": "3051ac1d",
   "metadata": {},
   "source": [
    "Average Pooling"
   ]
  },
  {
   "cell_type": "code",
   "execution_count": 103,
   "id": "ac3a0f85",
   "metadata": {},
   "outputs": [],
   "source": [
    "cnnModel8 = Sequential([\n",
    "    Conv2D(filters=32, activation='relu', kernel_size=(3,3), input_shape=(32,32,3), name=\"conv2D_layer_1\"),\n",
    "    AveragePooling2D((2,2)),\n",
    "    Flatten(),\n",
    "    Dense(units=225, activation='relu', name=\"hidden_layer_1\"),\n",
    "    Dense(units=10, activation='softmax', name=\"output_layer\"),\n",
    "])"
   ]
  },
  {
   "cell_type": "code",
   "execution_count": 104,
   "id": "ef090b0b",
   "metadata": {},
   "outputs": [
    {
     "name": "stdout",
     "output_type": "stream",
     "text": [
      "Epoch 1/10\n",
      "1563/1563 [==============================] - 32s 21ms/step - loss: 1.4948 - accuracy: 0.4681\n",
      "Epoch 2/10\n",
      "1563/1563 [==============================] - 33s 21ms/step - loss: 1.2091 - accuracy: 0.5760\n",
      "Epoch 3/10\n",
      "1563/1563 [==============================] - 34s 22ms/step - loss: 1.0924 - accuracy: 0.6168\n",
      "Epoch 4/10\n",
      "1563/1563 [==============================] - 36s 23ms/step - loss: 1.0091 - accuracy: 0.6435\n",
      "Epoch 5/10\n",
      "1563/1563 [==============================] - 32s 20ms/step - loss: 0.9350 - accuracy: 0.6716\n",
      "Epoch 6/10\n",
      "1563/1563 [==============================] - 36s 23ms/step - loss: 0.8728 - accuracy: 0.6932\n",
      "Epoch 7/10\n",
      "1563/1563 [==============================] - 34s 22ms/step - loss: 0.8061 - accuracy: 0.7179\n",
      "Epoch 8/10\n",
      "1563/1563 [==============================] - 36s 23ms/step - loss: 0.7449 - accuracy: 0.7386\n",
      "Epoch 9/10\n",
      "1563/1563 [==============================] - 40s 26ms/step - loss: 0.6862 - accuracy: 0.7594\n",
      "Epoch 10/10\n",
      "1563/1563 [==============================] - 39s 25ms/step - loss: 0.6279 - accuracy: 0.7804\n"
     ]
    },
    {
     "data": {
      "text/plain": [
       "<keras.callbacks.History at 0x22ab4403460>"
      ]
     },
     "execution_count": 104,
     "metadata": {},
     "output_type": "execute_result"
    }
   ],
   "source": [
    "cnnModel8.compile(\n",
    "    optimizer=\"adam\",\n",
    "    loss = \"sparse_categorical_crossentropy\",\n",
    "    metrics = ['accuracy']\n",
    ")\n",
    "\n",
    "cnnModel8.fit(x_train, y_train, epochs=10)"
   ]
  },
  {
   "cell_type": "code",
   "execution_count": 105,
   "id": "c7776d3a",
   "metadata": {},
   "outputs": [
    {
     "name": "stdout",
     "output_type": "stream",
     "text": [
      "313/313 [==============================] - 3s 10ms/step - loss: 1.2397 - accuracy: 0.6178\n"
     ]
    },
    {
     "data": {
      "text/plain": [
       "[1.2396692037582397, 0.6177999973297119]"
      ]
     },
     "execution_count": 105,
     "metadata": {},
     "output_type": "execute_result"
    }
   ],
   "source": [
    "cnnModel8.evaluate(x_test,y_test)"
   ]
  },
  {
   "cell_type": "markdown",
   "id": "60b979f8",
   "metadata": {},
   "source": [
    "Both training and testing loss has increased, so maxpooling has shown to be a better option."
   ]
  },
  {
   "cell_type": "markdown",
   "id": "d56a4d70",
   "metadata": {},
   "source": [
    "Global Average Pooling"
   ]
  },
  {
   "cell_type": "code",
   "execution_count": 80,
   "id": "9c830172",
   "metadata": {},
   "outputs": [],
   "source": [
    "cnnModel9 = Sequential([\n",
    "    Conv2D(filters=32, activation='relu', kernel_size=(3,3), input_shape=(32,32,3), name=\"conv2D_layer_1\"),\n",
    "    GlobalAveragePooling2D(),\n",
    "    Flatten(),\n",
    "    Dense(units=225, activation='relu', name=\"hidden_layer_1\"),\n",
    "    Dense(units=10, activation='softmax', name=\"output_layer\"),\n",
    "])"
   ]
  },
  {
   "cell_type": "code",
   "execution_count": 81,
   "id": "84fa49fa",
   "metadata": {},
   "outputs": [
    {
     "name": "stdout",
     "output_type": "stream",
     "text": [
      "Epoch 1/5\n",
      "1563/1563 [==============================] - 15s 9ms/step - loss: 2.0433 - accuracy: 0.2302\n",
      "Epoch 2/5\n",
      "1563/1563 [==============================] - 15s 9ms/step - loss: 1.8588 - accuracy: 0.2980\n",
      "Epoch 3/5\n",
      "1563/1563 [==============================] - 14s 9ms/step - loss: 1.7501 - accuracy: 0.3339\n",
      "Epoch 4/5\n",
      "1563/1563 [==============================] - 13s 8ms/step - loss: 1.7169 - accuracy: 0.3511\n",
      "Epoch 5/5\n",
      "1563/1563 [==============================] - 13s 8ms/step - loss: 1.6892 - accuracy: 0.3628\n"
     ]
    },
    {
     "data": {
      "text/plain": [
       "<keras.callbacks.History at 0x22ad92e3160>"
      ]
     },
     "execution_count": 81,
     "metadata": {},
     "output_type": "execute_result"
    }
   ],
   "source": [
    "cnnModel9.compile(\n",
    "    optimizer=\"adam\",\n",
    "    loss = \"sparse_categorical_crossentropy\",\n",
    "    metrics = ['accuracy']\n",
    ")\n",
    "\n",
    "cnnModel9.fit(x_train, y_train, epochs=5)"
   ]
  },
  {
   "cell_type": "code",
   "execution_count": 82,
   "id": "1dd6f676",
   "metadata": {},
   "outputs": [
    {
     "name": "stdout",
     "output_type": "stream",
     "text": [
      "313/313 [==============================] - 2s 6ms/step - loss: 1.6745 - accuracy: 0.3702\n"
     ]
    },
    {
     "data": {
      "text/plain": [
       "[1.6745140552520752, 0.3702000081539154]"
      ]
     },
     "execution_count": 82,
     "metadata": {},
     "output_type": "execute_result"
    }
   ],
   "source": [
    "cnnModel9.evaluate(x_test,y_test)"
   ]
  },
  {
   "cell_type": "markdown",
   "id": "e58a4299",
   "metadata": {},
   "source": [
    "This is probably one of the worst responses we've gotten so far, that's why global average pooling probably isn't a good option."
   ]
  },
  {
   "cell_type": "markdown",
   "id": "78f68daa",
   "metadata": {},
   "source": [
    "### Add batch normalization"
   ]
  },
  {
   "cell_type": "code",
   "execution_count": 106,
   "id": "e066762a",
   "metadata": {},
   "outputs": [],
   "source": [
    "cnnModel_batch = Sequential([\n",
    "    Conv2D(filters=32, activation='relu', kernel_size=(3,3), input_shape=(32,32,3), name=\"conv2D_layer_1\"),\n",
    "    BatchNormalization(),\n",
    "    Flatten(),\n",
    "    Dense(units=225, activation='relu', name=\"hidden_layer_1\"),\n",
    "    Dense(units=10, activation='softmax', name=\"output_layer\"),\n",
    "])"
   ]
  },
  {
   "cell_type": "code",
   "execution_count": 107,
   "id": "7a885694",
   "metadata": {},
   "outputs": [
    {
     "name": "stdout",
     "output_type": "stream",
     "text": [
      "Epoch 1/5\n",
      "1563/1563 [==============================] - 67s 42ms/step - loss: 1.5198 - accuracy: 0.4821\n",
      "Epoch 2/5\n",
      "1563/1563 [==============================] - 77s 49ms/step - loss: 1.0971 - accuracy: 0.6100\n",
      "Epoch 3/5\n",
      "1563/1563 [==============================] - 83s 53ms/step - loss: 0.8603 - accuracy: 0.6966\n",
      "Epoch 4/5\n",
      "1563/1563 [==============================] - 86s 55ms/step - loss: 0.6311 - accuracy: 0.7798\n",
      "Epoch 5/5\n",
      "1563/1563 [==============================] - 87s 56ms/step - loss: 0.4547 - accuracy: 0.8444\n"
     ]
    },
    {
     "data": {
      "text/plain": [
       "<keras.callbacks.History at 0x22ad0c90280>"
      ]
     },
     "execution_count": 107,
     "metadata": {},
     "output_type": "execute_result"
    }
   ],
   "source": [
    "cnnModel_batch.compile(\n",
    "    optimizer=\"adam\",\n",
    "    loss = \"sparse_categorical_crossentropy\",\n",
    "    metrics = ['accuracy']\n",
    ")\n",
    "\n",
    "cnnModel_batch.fit(x_train, y_train, epochs=5)"
   ]
  },
  {
   "cell_type": "code",
   "execution_count": 109,
   "id": "95e5d0ca",
   "metadata": {},
   "outputs": [
    {
     "name": "stdout",
     "output_type": "stream",
     "text": [
      "313/313 [==============================] - 3s 9ms/step - loss: 2.4210 - accuracy: 0.5102\n"
     ]
    },
    {
     "data": {
      "text/plain": [
       "[2.4209702014923096, 0.510200023651123]"
      ]
     },
     "execution_count": 109,
     "metadata": {},
     "output_type": "execute_result"
    }
   ],
   "source": [
    "cnnModel_batch.evaluate(x_test,y_test)"
   ]
  },
  {
   "cell_type": "markdown",
   "id": "a12e1a5b",
   "metadata": {},
   "source": [
    "We see that the accuracy has decreased a lot in our training set, but is overfitting our model.\n",
    "we could use techniques like dropout and ... to avoid this."
   ]
  },
  {
   "cell_type": "markdown",
   "id": "5a08c3d2",
   "metadata": {},
   "source": [
    "### Confusion Matrix"
   ]
  },
  {
   "cell_type": "code",
   "execution_count": 122,
   "id": "feb312ff",
   "metadata": {},
   "outputs": [],
   "source": [
    "import matplotlib.pyplot as plt\n",
    "import seaborn as sns\n",
    "sns.set()"
   ]
  },
  {
   "cell_type": "code",
   "execution_count": 124,
   "id": "621316e0",
   "metadata": {},
   "outputs": [
    {
     "name": "stdout",
     "output_type": "stream",
     "text": [
      "313/313 [==============================] - 1s 4ms/step\n"
     ]
    },
    {
     "data": {
      "image/png": "[encoded data removed]",
      "text/plain": [
       "<Figure size 900x700 with 2 Axes>"
      ]
     },
     "metadata": {},
     "output_type": "display_data"
    }
   ],
   "source": [
    "predict = cnnModel7.predict(x_test) \n",
    "classes = np.argmax(predict, axis=1)\n",
    "plt.figure(figsize=(9,7))\n",
    "sns.heatmap(confusion_matrix(y_test, classes), annot=True)\n",
    "plt.show()"
   ]
  },
  {
   "cell_type": "markdown",
   "id": "fe7ef4f9",
   "metadata": {},
   "source": [
    "We see that a lot of the objects in class one were identified as 9, which means the model can't tell the automobiles from the trucks.\n",
    "Also a lot of 4 and 5s were identified as 7, so the model can't really tell deers and dogs from horses.\n",
    "This means we need a better model."
   ]
  },
  {
   "cell_type": "markdown",
   "id": "5208ffd2",
   "metadata": {},
   "source": [
    "### Report"
   ]
  },
  {
   "cell_type": "code",
   "execution_count": 131,
   "id": "932d98b6",
   "metadata": {},
   "outputs": [
    {
     "name": "stdout",
     "output_type": "stream",
     "text": [
      "              precision    recall  f1-score   support\n",
      "\n",
      "           0       0.70      0.74      0.72      1000\n",
      "           1       0.80      0.77      0.79      1000\n",
      "           2       0.60      0.56      0.58      1000\n",
      "           3       0.52      0.52      0.52      1000\n",
      "           4       0.70      0.52      0.60      1000\n",
      "           5       0.66      0.51      0.57      1000\n",
      "           6       0.70      0.82      0.76      1000\n",
      "           7       0.61      0.84      0.70      1000\n",
      "           8       0.83      0.74      0.79      1000\n",
      "           9       0.71      0.79      0.75      1000\n",
      "\n",
      "    accuracy                           0.68     10000\n",
      "   macro avg       0.68      0.68      0.68     10000\n",
      "weighted avg       0.68      0.68      0.68     10000\n",
      "\n"
     ]
    }
   ],
   "source": [
    "print(classification_report(y_test, classes))"
   ]
  },
  {
   "cell_type": "code",
   "execution_count": null,
   "id": "25a33a09",
   "metadata": {},
   "outputs": [],
   "source": []
  }
 ],
 "metadata": {
  "kernelspec": {
   "display_name": "Python 3 (ipykernel)",
   "language": "python",
   "name": "python3"
  },
  "language_info": {
   "codemirror_mode": {
    "name": "ipython",
    "version": 3
   },
   "file_extension": ".py",
   "mimetype": "text/x-python",
   "name": "python",
   "nbconvert_exporter": "python",
   "pygments_lexer": "ipython3",
   "version": "3.9.6"
  }
 },
 "nbformat": 4,
 "nbformat_minor": 5
}
