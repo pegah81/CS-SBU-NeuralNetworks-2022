{
 "cells": [
  {
   "cell_type": "markdown",
   "id": "21526201",
   "metadata": {},
   "source": [
    "# Pegah givehchian- Project 4\n"
   ]
  },
  {
   "cell_type": "code",
   "execution_count": 2,
   "id": "49118b5d",
   "metadata": {},
   "outputs": [],
   "source": [
    "import random\n",
    "import numpy as np\n",
    "import pandas as pd\n",
    "import tensorflow as tf\n",
    "import matplotlib.pyplot as plt\n",
    "from tensorflow.keras.models import Sequential\n",
    "from tensorflow.keras.layers import Dense, Conv2D, MaxPool2D, Flatten,BatchNormalization,Dropout,LeakyReLU,Conv2DTranspose,concatenate\n",
    "from tensorflow.keras.models import Model\n",
    "from tensorflow.keras import layers, losses, models\n"
   ]
  },
  {
   "cell_type": "code",
   "execution_count": 3,
   "id": "9b65f025",
   "metadata": {},
   "outputs": [],
   "source": [
    "(x_total, y_total), (x_test, y_test) = tf.keras.datasets.cifar10.load_data()"
   ]
  },
  {
   "cell_type": "code",
   "execution_count": 4,
   "id": "084981fe",
   "metadata": {},
   "outputs": [],
   "source": [
    "class_arr = [\"airplane\", \"automobile\", \"bird\", \"cat\", \"deer\", \"dog\", \"frog\", \"horse\", \"ship\", \"truck\"]"
   ]
  },
  {
   "cell_type": "code",
   "execution_count": 5,
   "id": "d1431354",
   "metadata": {},
   "outputs": [
    {
     "data": {
      "text/plain": [
       "(50000, 32, 32, 3)"
      ]
     },
     "execution_count": 5,
     "metadata": {},
     "output_type": "execute_result"
    }
   ],
   "source": [
    "x_total.shape"
   ]
  },
  {
   "cell_type": "code",
   "execution_count": 6,
   "id": "72f5cea2",
   "metadata": {},
   "outputs": [
    {
     "data": {
      "text/plain": [
       "(50000, 1)"
      ]
     },
     "execution_count": 6,
     "metadata": {},
     "output_type": "execute_result"
    }
   ],
   "source": [
    "y_total.shape"
   ]
  },
  {
   "cell_type": "code",
   "execution_count": 7,
   "id": "d877ecb8",
   "metadata": {},
   "outputs": [
    {
     "data": {
      "text/plain": [
       "array([[[ 59,  62,  63],\n",
       "        [ 43,  46,  45],\n",
       "        [ 50,  48,  43],\n",
       "        ...,\n",
       "        [158, 132, 108],\n",
       "        [152, 125, 102],\n",
       "        [148, 124, 103]],\n",
       "\n",
       "       [[ 16,  20,  20],\n",
       "        [  0,   0,   0],\n",
       "        [ 18,   8,   0],\n",
       "        ...,\n",
       "        [123,  88,  55],\n",
       "        [119,  83,  50],\n",
       "        [122,  87,  57]],\n",
       "\n",
       "       [[ 25,  24,  21],\n",
       "        [ 16,   7,   0],\n",
       "        [ 49,  27,   8],\n",
       "        ...,\n",
       "        [118,  84,  50],\n",
       "        [120,  84,  50],\n",
       "        [109,  73,  42]],\n",
       "\n",
       "       ...,\n",
       "\n",
       "       [[208, 170,  96],\n",
       "        [201, 153,  34],\n",
       "        [198, 161,  26],\n",
       "        ...,\n",
       "        [160, 133,  70],\n",
       "        [ 56,  31,   7],\n",
       "        [ 53,  34,  20]],\n",
       "\n",
       "       [[180, 139,  96],\n",
       "        [173, 123,  42],\n",
       "        [186, 144,  30],\n",
       "        ...,\n",
       "        [184, 148,  94],\n",
       "        [ 97,  62,  34],\n",
       "        [ 83,  53,  34]],\n",
       "\n",
       "       [[177, 144, 116],\n",
       "        [168, 129,  94],\n",
       "        [179, 142,  87],\n",
       "        ...,\n",
       "        [216, 184, 140],\n",
       "        [151, 118,  84],\n",
       "        [123,  92,  72]]], dtype=uint8)"
      ]
     },
     "execution_count": 7,
     "metadata": {},
     "output_type": "execute_result"
    }
   ],
   "source": [
    "x_total[0]"
   ]
  },
  {
   "cell_type": "markdown",
   "id": "f0039abf",
   "metadata": {},
   "source": [
    "Normalize"
   ]
  },
  {
   "cell_type": "code",
   "execution_count": 8,
   "id": "b3a8c627",
   "metadata": {},
   "outputs": [],
   "source": [
    "x_total = x_total.astype('float32')/255\n",
    "x_test = x_test.astype('float32')/255"
   ]
  },
  {
   "cell_type": "code",
   "execution_count": 9,
   "id": "1e1e39d3",
   "metadata": {},
   "outputs": [],
   "source": [
    "def plot_image(x):\n",
    "    plt.figure(figsize = (10,2))\n",
    "    plt.imshow(x)"
   ]
  },
  {
   "cell_type": "code",
   "execution_count": 10,
   "id": "18e84203",
   "metadata": {},
   "outputs": [],
   "source": [
    "x_1000 = []\n",
    "y_1000 = []\n",
    "for i in range(1000):\n",
    "    j = random.randrange(50000)\n",
    "    x_1000.append(x_total[j])\n",
    "    y_1000.append(y_total[j])"
   ]
  },
  {
   "cell_type": "code",
   "execution_count": 11,
   "id": "0a186b54",
   "metadata": {},
   "outputs": [],
   "source": [
    "x_train = []\n",
    "x_1 = []\n",
    "x_2 = []\n",
    "y_train = []\n",
    "\n",
    "for i in range(1000):\n",
    "    n1 = random.randrange(1000)\n",
    "    n2 = random.randrange(1000)\n",
    "    x_train.append((x_1000[n1] + x_1000[n2])/2)\n",
    "    x_1.append(x_1000[n1])\n",
    "    x_2.append(x_1000[n2])\n",
    "    y_train.append([y_1000[n1][0], y_1000[n2][0]])"
   ]
  },
  {
   "cell_type": "code",
   "execution_count": 12,
   "id": "0c8372c0",
   "metadata": {},
   "outputs": [
    {
     "data": {
      "text/plain": [
       "(32, 32, 3)"
      ]
     },
     "execution_count": 12,
     "metadata": {},
     "output_type": "execute_result"
    }
   ],
   "source": [
    "x_train[0].shape"
   ]
  },
  {
   "cell_type": "code",
   "execution_count": 13,
   "id": "ce6ece0e",
   "metadata": {},
   "outputs": [
    {
     "data": {
      "text/plain": [
       "1000"
      ]
     },
     "execution_count": 13,
     "metadata": {},
     "output_type": "execute_result"
    }
   ],
   "source": [
    "len(x_train)"
   ]
  },
  {
   "cell_type": "code",
   "execution_count": 14,
   "id": "99ebfd09",
   "metadata": {},
   "outputs": [],
   "source": [
    "x_train = np.array(x_train)\n",
    "x_1 = np.array(x_1)\n",
    "x_2 = np.array(x_2)\n",
    "y_train = np.array(y_train)"
   ]
  },
  {
   "cell_type": "code",
   "execution_count": 15,
   "id": "79807cd9",
   "metadata": {},
   "outputs": [],
   "source": [
    "latent_dim = 64 \n",
    "\n",
    "class Autoencoder(Model):\n",
    "    def __init__(self, latent_dim):\n",
    "        super(Autoencoder, self).__init__()\n",
    "        self.latent_dim = latent_dim   \n",
    "        self.encoder = tf.keras.Sequential([\n",
    "            layers.Conv2D(16,(3,3), activation='relu', padding='same'),\n",
    "            layers.MaxPooling2D((2,2), padding='same'),\n",
    "            layers.Conv2D(8,(3,3), activation='relu', padding='same'),\n",
    "            layers.MaxPooling2D((2,2), padding='same'),\n",
    "            layers.Conv2D(8,(3,3), activation='relu', padding='same'),\n",
    "            layers.MaxPooling2D((2,2), padding='same', name='encoder')\n",
    "        ])\n",
    "        self.decoder1 = tf.keras.Sequential([\n",
    "            layers.Conv2D(8, (3, 3), activation='relu', padding='same'),\n",
    "            layers.UpSampling2D((2, 2)),\n",
    "            layers.Conv2D(8, (3, 3), activation='relu', padding='same'),\n",
    "            layers.UpSampling2D((2, 2)),\n",
    "            layers.Conv2D(16, (3, 3), activation='relu',padding='same'),\n",
    "            layers.UpSampling2D((2, 2)),\n",
    "            layers.Conv2D(3, (3, 3), activation='sigmoid', padding='same')\n",
    "        ])\n",
    "        self.decoder2 = tf.keras.Sequential([\n",
    "            layers.Conv2D(8, (3, 3), activation='relu', padding='same'),\n",
    "            layers.UpSampling2D((2, 2)),\n",
    "            layers.Conv2D(8, (3, 3), activation='relu', padding='same'),\n",
    "            layers.UpSampling2D((2, 2)),\n",
    "            layers.Conv2D(16, (3, 3), activation='relu',padding='same'),\n",
    "            layers.UpSampling2D((2, 2)),\n",
    "            layers.Conv2D(3, (3, 3), activation='sigmoid', padding='same')\n",
    "        ])\n",
    "\n",
    "    def call(self, x):\n",
    "        encoded = self.encoder(x)\n",
    "        decoded1 = self.decoder1(encoded)\n",
    "        decoded2 = self.decoder2(encoded)\n",
    "        return [decoded1, decoded2]\n",
    "\n",
    "autoencoder = Autoencoder(latent_dim)"
   ]
  },
  {
   "cell_type": "code",
   "execution_count": 16,
   "id": "0ecd0417",
   "metadata": {},
   "outputs": [],
   "source": [
    "autoencoder.compile(optimizer='adam', loss=losses.MeanSquaredError(), metrics=['accuracy'])\n"
   ]
  },
  {
   "cell_type": "code",
   "execution_count": 17,
   "id": "4b4dfdc1",
   "metadata": {},
   "outputs": [
    {
     "name": "stdout",
     "output_type": "stream",
     "text": [
      "Epoch 1/100\n",
      "32/32 [==============================] - 7s 99ms/step - loss: 0.1279 - output_1_loss: 0.0639 - output_2_loss: 0.0641 - output_1_accuracy: 0.3556 - output_2_accuracy: 0.4009\n",
      "Epoch 2/100\n",
      "32/32 [==============================] - 3s 108ms/step - loss: 0.1189 - output_1_loss: 0.0593 - output_2_loss: 0.0596 - output_1_accuracy: 0.4179 - output_2_accuracy: 0.4892\n",
      "Epoch 3/100\n",
      "32/32 [==============================] - 4s 112ms/step - loss: 0.1048 - output_1_loss: 0.0526 - output_2_loss: 0.0522 - output_1_accuracy: 0.4008 - output_2_accuracy: 0.4259\n",
      "Epoch 4/100\n",
      "32/32 [==============================] - 3s 99ms/step - loss: 0.0987 - output_1_loss: 0.0499 - output_2_loss: 0.0488 - output_1_accuracy: 0.3885 - output_2_accuracy: 0.4384\n",
      "Epoch 5/100\n",
      "32/32 [==============================] - 3s 90ms/step - loss: 0.0960 - output_1_loss: 0.0486 - output_2_loss: 0.0474 - output_1_accuracy: 0.3739 - output_2_accuracy: 0.4534\n",
      "Epoch 6/100\n",
      "32/32 [==============================] - 3s 86ms/step - loss: 0.0937 - output_1_loss: 0.0473 - output_2_loss: 0.0464 - output_1_accuracy: 0.3734 - output_2_accuracy: 0.4156\n",
      "Epoch 7/100\n",
      "32/32 [==============================] - 3s 86ms/step - loss: 0.0933 - output_1_loss: 0.0471 - output_2_loss: 0.0462 - output_1_accuracy: 0.3951 - output_2_accuracy: 0.4169\n",
      "Epoch 8/100\n",
      "32/32 [==============================] - 3s 88ms/step - loss: 0.0913 - output_1_loss: 0.0461 - output_2_loss: 0.0452 - output_1_accuracy: 0.3920 - output_2_accuracy: 0.4141\n",
      "Epoch 9/100\n",
      "32/32 [==============================] - 3s 89ms/step - loss: 0.0912 - output_1_loss: 0.0463 - output_2_loss: 0.0450 - output_1_accuracy: 0.4033 - output_2_accuracy: 0.4539\n",
      "Epoch 10/100\n",
      "32/32 [==============================] - 3s 91ms/step - loss: 0.0902 - output_1_loss: 0.0456 - output_2_loss: 0.0446 - output_1_accuracy: 0.3741 - output_2_accuracy: 0.4200\n",
      "Epoch 11/100\n",
      "32/32 [==============================] - 3s 91ms/step - loss: 0.0893 - output_1_loss: 0.0453 - output_2_loss: 0.0441 - output_1_accuracy: 0.4135 - output_2_accuracy: 0.4446\n",
      "Epoch 12/100\n",
      "32/32 [==============================] - 3s 86ms/step - loss: 0.0892 - output_1_loss: 0.0452 - output_2_loss: 0.0440 - output_1_accuracy: 0.3804 - output_2_accuracy: 0.4341\n",
      "Epoch 13/100\n",
      "32/32 [==============================] - 3s 87ms/step - loss: 0.0878 - output_1_loss: 0.0444 - output_2_loss: 0.0434 - output_1_accuracy: 0.4055 - output_2_accuracy: 0.4389\n",
      "Epoch 14/100\n",
      "32/32 [==============================] - 3s 90ms/step - loss: 0.0880 - output_1_loss: 0.0446 - output_2_loss: 0.0434 - output_1_accuracy: 0.4013 - output_2_accuracy: 0.4445\n",
      "Epoch 15/100\n",
      "32/32 [==============================] - 3s 89ms/step - loss: 0.0881 - output_1_loss: 0.0444 - output_2_loss: 0.0436 - output_1_accuracy: 0.4014 - output_2_accuracy: 0.4555\n",
      "Epoch 16/100\n",
      "32/32 [==============================] - 3s 86ms/step - loss: 0.0868 - output_1_loss: 0.0439 - output_2_loss: 0.0429 - output_1_accuracy: 0.4061 - output_2_accuracy: 0.4442\n",
      "Epoch 17/100\n",
      "32/32 [==============================] - 3s 86ms/step - loss: 0.0867 - output_1_loss: 0.0438 - output_2_loss: 0.0429 - output_1_accuracy: 0.4088 - output_2_accuracy: 0.4418\n",
      "Epoch 18/100\n",
      "32/32 [==============================] - 3s 85ms/step - loss: 0.0863 - output_1_loss: 0.0436 - output_2_loss: 0.0427 - output_1_accuracy: 0.4067 - output_2_accuracy: 0.4463\n",
      "Epoch 19/100\n",
      "32/32 [==============================] - 3s 85ms/step - loss: 0.0862 - output_1_loss: 0.0435 - output_2_loss: 0.0426 - output_1_accuracy: 0.4013 - output_2_accuracy: 0.4543\n",
      "Epoch 20/100\n",
      "32/32 [==============================] - 3s 94ms/step - loss: 0.0858 - output_1_loss: 0.0433 - output_2_loss: 0.0426 - output_1_accuracy: 0.4153 - output_2_accuracy: 0.4399\n",
      "Epoch 21/100\n",
      "32/32 [==============================] - 3s 90ms/step - loss: 0.0859 - output_1_loss: 0.0434 - output_2_loss: 0.0425 - output_1_accuracy: 0.4119 - output_2_accuracy: 0.4455\n",
      "Epoch 22/100\n",
      "32/32 [==============================] - 3s 94ms/step - loss: 0.0858 - output_1_loss: 0.0434 - output_2_loss: 0.0424 - output_1_accuracy: 0.4220 - output_2_accuracy: 0.4570\n",
      "Epoch 23/100\n",
      "32/32 [==============================] - 3s 92ms/step - loss: 0.0855 - output_1_loss: 0.0431 - output_2_loss: 0.0423 - output_1_accuracy: 0.4068 - output_2_accuracy: 0.4498\n",
      "Epoch 24/100\n",
      "32/32 [==============================] - 3s 94ms/step - loss: 0.0851 - output_1_loss: 0.0430 - output_2_loss: 0.0422 - output_1_accuracy: 0.4267 - output_2_accuracy: 0.4470\n",
      "Epoch 25/100\n",
      "32/32 [==============================] - 3s 92ms/step - loss: 0.0853 - output_1_loss: 0.0431 - output_2_loss: 0.0422 - output_1_accuracy: 0.4182 - output_2_accuracy: 0.4563\n",
      "Epoch 26/100\n",
      "32/32 [==============================] - 3s 95ms/step - loss: 0.0853 - output_1_loss: 0.0429 - output_2_loss: 0.0424 - output_1_accuracy: 0.4235 - output_2_accuracy: 0.4255\n",
      "Epoch 27/100\n",
      "32/32 [==============================] - 3s 90ms/step - loss: 0.0848 - output_1_loss: 0.0427 - output_2_loss: 0.0420 - output_1_accuracy: 0.4299 - output_2_accuracy: 0.4585\n",
      "Epoch 28/100\n",
      "32/32 [==============================] - 3s 95ms/step - loss: 0.0848 - output_1_loss: 0.0428 - output_2_loss: 0.0420 - output_1_accuracy: 0.4327 - output_2_accuracy: 0.4512\n",
      "Epoch 29/100\n",
      "32/32 [==============================] - 3s 101ms/step - loss: 0.0843 - output_1_loss: 0.0425 - output_2_loss: 0.0418 - output_1_accuracy: 0.4454 - output_2_accuracy: 0.4481\n",
      "Epoch 30/100\n",
      "32/32 [==============================] - 3s 94ms/step - loss: 0.0840 - output_1_loss: 0.0423 - output_2_loss: 0.0417 - output_1_accuracy: 0.4408 - output_2_accuracy: 0.4643\n",
      "Epoch 31/100\n",
      "32/32 [==============================] - 3s 97ms/step - loss: 0.0840 - output_1_loss: 0.0424 - output_2_loss: 0.0416 - output_1_accuracy: 0.4529 - output_2_accuracy: 0.4687\n",
      "Epoch 32/100\n",
      "32/32 [==============================] - 3s 98ms/step - loss: 0.0832 - output_1_loss: 0.0421 - output_2_loss: 0.0411 - output_1_accuracy: 0.4633 - output_2_accuracy: 0.4795\n",
      "Epoch 33/100\n",
      "32/32 [==============================] - 3s 107ms/step - loss: 0.0830 - output_1_loss: 0.0419 - output_2_loss: 0.0411 - output_1_accuracy: 0.4735 - output_2_accuracy: 0.4859\n",
      "Epoch 34/100\n",
      "32/32 [==============================] - 3s 108ms/step - loss: 0.0827 - output_1_loss: 0.0419 - output_2_loss: 0.0409 - output_1_accuracy: 0.4812 - output_2_accuracy: 0.4932\n",
      "Epoch 35/100\n",
      "32/32 [==============================] - 5s 143ms/step - loss: 0.0825 - output_1_loss: 0.0417 - output_2_loss: 0.0409 - output_1_accuracy: 0.4852 - output_2_accuracy: 0.4993\n",
      "Epoch 36/100\n",
      "32/32 [==============================] - 3s 108ms/step - loss: 0.0825 - output_1_loss: 0.0418 - output_2_loss: 0.0407 - output_1_accuracy: 0.4871 - output_2_accuracy: 0.4985\n",
      "Epoch 37/100\n",
      "32/32 [==============================] - 3s 102ms/step - loss: 0.0829 - output_1_loss: 0.0419 - output_2_loss: 0.0410 - output_1_accuracy: 0.5007 - output_2_accuracy: 0.4975\n",
      "Epoch 38/100\n",
      "32/32 [==============================] - 3s 97ms/step - loss: 0.0822 - output_1_loss: 0.0414 - output_2_loss: 0.0408 - output_1_accuracy: 0.4932 - output_2_accuracy: 0.5007\n",
      "Epoch 39/100\n",
      "32/32 [==============================] - 3s 97ms/step - loss: 0.0818 - output_1_loss: 0.0412 - output_2_loss: 0.0406 - output_1_accuracy: 0.5041 - output_2_accuracy: 0.5096\n",
      "Epoch 40/100\n",
      "32/32 [==============================] - 3s 96ms/step - loss: 0.0816 - output_1_loss: 0.0411 - output_2_loss: 0.0404 - output_1_accuracy: 0.5034 - output_2_accuracy: 0.5068\n",
      "Epoch 41/100\n",
      "32/32 [==============================] - 3s 108ms/step - loss: 0.0819 - output_1_loss: 0.0412 - output_2_loss: 0.0407 - output_1_accuracy: 0.5063 - output_2_accuracy: 0.5114\n",
      "Epoch 42/100\n",
      "32/32 [==============================] - 4s 113ms/step - loss: 0.0815 - output_1_loss: 0.0411 - output_2_loss: 0.0404 - output_1_accuracy: 0.5085 - output_2_accuracy: 0.5038\n",
      "Epoch 43/100\n",
      "32/32 [==============================] - 4s 120ms/step - loss: 0.0816 - output_1_loss: 0.0411 - output_2_loss: 0.0405 - output_1_accuracy: 0.5145 - output_2_accuracy: 0.5125\n",
      "Epoch 44/100\n",
      "32/32 [==============================] - 3s 108ms/step - loss: 0.0818 - output_1_loss: 0.0412 - output_2_loss: 0.0406 - output_1_accuracy: 0.5083 - output_2_accuracy: 0.5138\n",
      "Epoch 45/100\n"
     ]
    },
    {
     "name": "stdout",
     "output_type": "stream",
     "text": [
      "32/32 [==============================] - 3s 100ms/step - loss: 0.0810 - output_1_loss: 0.0409 - output_2_loss: 0.0401 - output_1_accuracy: 0.5113 - output_2_accuracy: 0.5149\n",
      "Epoch 46/100\n",
      "32/32 [==============================] - 3s 95ms/step - loss: 0.0813 - output_1_loss: 0.0410 - output_2_loss: 0.0403 - output_1_accuracy: 0.5172 - output_2_accuracy: 0.5146\n",
      "Epoch 47/100\n",
      "32/32 [==============================] - 3s 97ms/step - loss: 0.0812 - output_1_loss: 0.0409 - output_2_loss: 0.0403 - output_1_accuracy: 0.5047 - output_2_accuracy: 0.5165\n",
      "Epoch 48/100\n",
      "32/32 [==============================] - 3s 102ms/step - loss: 0.0810 - output_1_loss: 0.0408 - output_2_loss: 0.0403 - output_1_accuracy: 0.5193 - output_2_accuracy: 0.5140\n",
      "Epoch 49/100\n",
      "32/32 [==============================] - 3s 91ms/step - loss: 0.0820 - output_1_loss: 0.0415 - output_2_loss: 0.0405 - output_1_accuracy: 0.5160 - output_2_accuracy: 0.5134\n",
      "Epoch 50/100\n",
      "32/32 [==============================] - 3s 92ms/step - loss: 0.0823 - output_1_loss: 0.0419 - output_2_loss: 0.0404 - output_1_accuracy: 0.5132 - output_2_accuracy: 0.5153\n",
      "Epoch 51/100\n",
      "32/32 [==============================] - 3s 91ms/step - loss: 0.0809 - output_1_loss: 0.0408 - output_2_loss: 0.0401 - output_1_accuracy: 0.5137 - output_2_accuracy: 0.5095\n",
      "Epoch 52/100\n",
      "32/32 [==============================] - 3s 96ms/step - loss: 0.0813 - output_1_loss: 0.0410 - output_2_loss: 0.0402 - output_1_accuracy: 0.5137 - output_2_accuracy: 0.5158\n",
      "Epoch 53/100\n",
      "32/32 [==============================] - 3s 95ms/step - loss: 0.0808 - output_1_loss: 0.0408 - output_2_loss: 0.0401 - output_1_accuracy: 0.5142 - output_2_accuracy: 0.5252\n",
      "Epoch 54/100\n",
      "32/32 [==============================] - 4s 111ms/step - loss: 0.0804 - output_1_loss: 0.0405 - output_2_loss: 0.0399 - output_1_accuracy: 0.5178 - output_2_accuracy: 0.5206\n",
      "Epoch 55/100\n",
      "32/32 [==============================] - 3s 102ms/step - loss: 0.0804 - output_1_loss: 0.0404 - output_2_loss: 0.0399 - output_1_accuracy: 0.5200 - output_2_accuracy: 0.5266\n",
      "Epoch 56/100\n",
      "32/32 [==============================] - 3s 91ms/step - loss: 0.0803 - output_1_loss: 0.0405 - output_2_loss: 0.0399 - output_1_accuracy: 0.5215 - output_2_accuracy: 0.5175\n",
      "Epoch 57/100\n",
      "32/32 [==============================] - 3s 91ms/step - loss: 0.0802 - output_1_loss: 0.0404 - output_2_loss: 0.0398 - output_1_accuracy: 0.5223 - output_2_accuracy: 0.5237\n",
      "Epoch 58/100\n",
      "32/32 [==============================] - 3s 87ms/step - loss: 0.0802 - output_1_loss: 0.0403 - output_2_loss: 0.0399 - output_1_accuracy: 0.5193 - output_2_accuracy: 0.5286\n",
      "Epoch 59/100\n",
      "32/32 [==============================] - 3s 92ms/step - loss: 0.0801 - output_1_loss: 0.0402 - output_2_loss: 0.0398 - output_1_accuracy: 0.5213 - output_2_accuracy: 0.5262\n",
      "Epoch 60/100\n",
      "32/32 [==============================] - 3s 90ms/step - loss: 0.0798 - output_1_loss: 0.0401 - output_2_loss: 0.0397 - output_1_accuracy: 0.5126 - output_2_accuracy: 0.5229\n",
      "Epoch 61/100\n",
      "32/32 [==============================] - 3s 96ms/step - loss: 0.0798 - output_1_loss: 0.0400 - output_2_loss: 0.0397 - output_1_accuracy: 0.5235 - output_2_accuracy: 0.5343\n",
      "Epoch 62/100\n",
      "32/32 [==============================] - 3s 94ms/step - loss: 0.0802 - output_1_loss: 0.0405 - output_2_loss: 0.0398 - output_1_accuracy: 0.5152 - output_2_accuracy: 0.5273\n",
      "Epoch 63/100\n",
      "32/32 [==============================] - 3s 90ms/step - loss: 0.0798 - output_1_loss: 0.0402 - output_2_loss: 0.0396 - output_1_accuracy: 0.5242 - output_2_accuracy: 0.5223\n",
      "Epoch 64/100\n",
      "32/32 [==============================] - 3s 90ms/step - loss: 0.0796 - output_1_loss: 0.0399 - output_2_loss: 0.0396 - output_1_accuracy: 0.5205 - output_2_accuracy: 0.5307\n",
      "Epoch 65/100\n",
      "32/32 [==============================] - 3s 98ms/step - loss: 0.0795 - output_1_loss: 0.0399 - output_2_loss: 0.0396 - output_1_accuracy: 0.5272 - output_2_accuracy: 0.5256\n",
      "Epoch 66/100\n",
      "32/32 [==============================] - 3s 91ms/step - loss: 0.0799 - output_1_loss: 0.0403 - output_2_loss: 0.0396 - output_1_accuracy: 0.5172 - output_2_accuracy: 0.5319\n",
      "Epoch 67/100\n",
      "32/32 [==============================] - 3s 101ms/step - loss: 0.0796 - output_1_loss: 0.0398 - output_2_loss: 0.0397 - output_1_accuracy: 0.5255 - output_2_accuracy: 0.5315\n",
      "Epoch 68/100\n",
      "32/32 [==============================] - 3s 93ms/step - loss: 0.0794 - output_1_loss: 0.0399 - output_2_loss: 0.0395 - output_1_accuracy: 0.5226 - output_2_accuracy: 0.5327\n",
      "Epoch 69/100\n",
      "32/32 [==============================] - 3s 97ms/step - loss: 0.0792 - output_1_loss: 0.0399 - output_2_loss: 0.0393 - output_1_accuracy: 0.5216 - output_2_accuracy: 0.5284\n",
      "Epoch 70/100\n",
      "32/32 [==============================] - 3s 90ms/step - loss: 0.0795 - output_1_loss: 0.0400 - output_2_loss: 0.0395 - output_1_accuracy: 0.5247 - output_2_accuracy: 0.5308\n",
      "Epoch 71/100\n",
      "32/32 [==============================] - 3s 91ms/step - loss: 0.0801 - output_1_loss: 0.0405 - output_2_loss: 0.0397 - output_1_accuracy: 0.5217 - output_2_accuracy: 0.5339\n",
      "Epoch 72/100\n",
      "32/32 [==============================] - 3s 89ms/step - loss: 0.0791 - output_1_loss: 0.0398 - output_2_loss: 0.0393 - output_1_accuracy: 0.5216 - output_2_accuracy: 0.5350\n",
      "Epoch 73/100\n",
      "32/32 [==============================] - 3s 93ms/step - loss: 0.0795 - output_1_loss: 0.0402 - output_2_loss: 0.0393 - output_1_accuracy: 0.5211 - output_2_accuracy: 0.5339\n",
      "Epoch 74/100\n",
      "32/32 [==============================] - 3s 94ms/step - loss: 0.0809 - output_1_loss: 0.0408 - output_2_loss: 0.0401 - output_1_accuracy: 0.5184 - output_2_accuracy: 0.5198\n",
      "Epoch 75/100\n",
      "32/32 [==============================] - 3s 96ms/step - loss: 0.0790 - output_1_loss: 0.0395 - output_2_loss: 0.0394 - output_1_accuracy: 0.5303 - output_2_accuracy: 0.5275\n",
      "Epoch 76/100\n",
      "32/32 [==============================] - 3s 95ms/step - loss: 0.0790 - output_1_loss: 0.0397 - output_2_loss: 0.0393 - output_1_accuracy: 0.5219 - output_2_accuracy: 0.5321\n",
      "Epoch 77/100\n",
      "32/32 [==============================] - 3s 91ms/step - loss: 0.0792 - output_1_loss: 0.0399 - output_2_loss: 0.0393 - output_1_accuracy: 0.5146 - output_2_accuracy: 0.5356\n",
      "Epoch 78/100\n",
      "32/32 [==============================] - 3s 92ms/step - loss: 0.0788 - output_1_loss: 0.0396 - output_2_loss: 0.0392 - output_1_accuracy: 0.5291 - output_2_accuracy: 0.5359\n",
      "Epoch 79/100\n",
      "32/32 [==============================] - 3s 92ms/step - loss: 0.0790 - output_1_loss: 0.0396 - output_2_loss: 0.0394 - output_1_accuracy: 0.5230 - output_2_accuracy: 0.5389\n",
      "Epoch 80/100\n",
      "32/32 [==============================] - 3s 92ms/step - loss: 0.0786 - output_1_loss: 0.0395 - output_2_loss: 0.0391 - output_1_accuracy: 0.5307 - output_2_accuracy: 0.5335\n",
      "Epoch 81/100\n",
      "32/32 [==============================] - 3s 93ms/step - loss: 0.0787 - output_1_loss: 0.0395 - output_2_loss: 0.0392 - output_1_accuracy: 0.5199 - output_2_accuracy: 0.5407\n",
      "Epoch 82/100\n",
      "32/32 [==============================] - 3s 92ms/step - loss: 0.0784 - output_1_loss: 0.0394 - output_2_loss: 0.0390 - output_1_accuracy: 0.5251 - output_2_accuracy: 0.5373\n",
      "Epoch 83/100\n",
      "32/32 [==============================] - 3s 94ms/step - loss: 0.0787 - output_1_loss: 0.0395 - output_2_loss: 0.0391 - output_1_accuracy: 0.5275 - output_2_accuracy: 0.5355\n",
      "Epoch 84/100\n",
      "32/32 [==============================] - 3s 92ms/step - loss: 0.0790 - output_1_loss: 0.0399 - output_2_loss: 0.0392 - output_1_accuracy: 0.5179 - output_2_accuracy: 0.5355\n",
      "Epoch 85/100\n",
      "32/32 [==============================] - 3s 96ms/step - loss: 0.0787 - output_1_loss: 0.0396 - output_2_loss: 0.0392 - output_1_accuracy: 0.5248 - output_2_accuracy: 0.5341\n",
      "Epoch 86/100\n",
      "32/32 [==============================] - 3s 91ms/step - loss: 0.0787 - output_1_loss: 0.0395 - output_2_loss: 0.0392 - output_1_accuracy: 0.5258 - output_2_accuracy: 0.5263\n",
      "Epoch 87/100\n",
      "32/32 [==============================] - 3s 97ms/step - loss: 0.0784 - output_1_loss: 0.0394 - output_2_loss: 0.0390 - output_1_accuracy: 0.5278 - output_2_accuracy: 0.5361\n",
      "Epoch 88/100\n",
      "32/32 [==============================] - 3s 94ms/step - loss: 0.0784 - output_1_loss: 0.0394 - output_2_loss: 0.0389 - output_1_accuracy: 0.5292 - output_2_accuracy: 0.5418\n",
      "Epoch 89/100\n",
      "32/32 [==============================] - 3s 88ms/step - loss: 0.0780 - output_1_loss: 0.0392 - output_2_loss: 0.0388 - output_1_accuracy: 0.5266 - output_2_accuracy: 0.5392\n",
      "Epoch 90/100\n",
      "32/32 [==============================] - 3s 89ms/step - loss: 0.0781 - output_1_loss: 0.0392 - output_2_loss: 0.0389 - output_1_accuracy: 0.5257 - output_2_accuracy: 0.5400\n",
      "Epoch 91/100\n",
      "32/32 [==============================] - 3s 96ms/step - loss: 0.0786 - output_1_loss: 0.0396 - output_2_loss: 0.0390 - output_1_accuracy: 0.5215 - output_2_accuracy: 0.5338\n",
      "Epoch 92/100\n",
      "32/32 [==============================] - 3s 93ms/step - loss: 0.0783 - output_1_loss: 0.0393 - output_2_loss: 0.0390 - output_1_accuracy: 0.5276 - output_2_accuracy: 0.5369\n",
      "Epoch 93/100\n",
      "32/32 [==============================] - 3s 93ms/step - loss: 0.0782 - output_1_loss: 0.0392 - output_2_loss: 0.0389 - output_1_accuracy: 0.5307 - output_2_accuracy: 0.5390\n",
      "Epoch 94/100\n",
      "32/32 [==============================] - 3s 98ms/step - loss: 0.0782 - output_1_loss: 0.0393 - output_2_loss: 0.0389 - output_1_accuracy: 0.5277 - output_2_accuracy: 0.5350\n",
      "Epoch 95/100\n",
      "32/32 [==============================] - 3s 94ms/step - loss: 0.0784 - output_1_loss: 0.0395 - output_2_loss: 0.0389 - output_1_accuracy: 0.5223 - output_2_accuracy: 0.5408\n",
      "Epoch 96/100\n",
      "32/32 [==============================] - 3s 91ms/step - loss: 0.0779 - output_1_loss: 0.0390 - output_2_loss: 0.0389 - output_1_accuracy: 0.5299 - output_2_accuracy: 0.5392\n",
      "Epoch 97/100\n",
      "32/32 [==============================] - 3s 95ms/step - loss: 0.0783 - output_1_loss: 0.0393 - output_2_loss: 0.0390 - output_1_accuracy: 0.5307 - output_2_accuracy: 0.5339\n",
      "Epoch 98/100\n",
      "32/32 [==============================] - 3s 93ms/step - loss: 0.0777 - output_1_loss: 0.0390 - output_2_loss: 0.0388 - output_1_accuracy: 0.5242 - output_2_accuracy: 0.5443\n",
      "Epoch 99/100\n",
      "32/32 [==============================] - 3s 99ms/step - loss: 0.0779 - output_1_loss: 0.0392 - output_2_loss: 0.0387 - output_1_accuracy: 0.5297 - output_2_accuracy: 0.5422\n",
      "Epoch 100/100\n",
      "32/32 [==============================] - 3s 101ms/step - loss: 0.0780 - output_1_loss: 0.0393 - output_2_loss: 0.0387 - output_1_accuracy: 0.5246 - output_2_accuracy: 0.5397\n"
     ]
    },
    {
     "data": {
      "text/plain": [
       "<keras.callbacks.History at 0x1f0ea020160>"
      ]
     },
     "execution_count": 17,
     "metadata": {},
     "output_type": "execute_result"
    }
   ],
   "source": [
    "autoencoder.fit(x_train, [x_1, x_2],\n",
    "                epochs=100)"
   ]
  },
  {
   "cell_type": "code",
   "execution_count": 18,
   "id": "90d343ff",
   "metadata": {},
   "outputs": [
    {
     "name": "stdout",
     "output_type": "stream",
     "text": [
      "Model: \"autoencoder\"\n",
      "_________________________________________________________________\n",
      " Layer (type)                Output Shape              Param #   \n",
      "=================================================================\n",
      " sequential (Sequential)     (None, 4, 4, 8)           2192      \n",
      "                                                                 \n",
      " sequential_1 (Sequential)   (None, 32, 32, 3)         2771      \n",
      "                                                                 \n",
      " sequential_2 (Sequential)   (None, 32, 32, 3)         2771      \n",
      "                                                                 \n",
      "=================================================================\n",
      "Total params: 7,734\n",
      "Trainable params: 7,734\n",
      "Non-trainable params: 0\n",
      "_________________________________________________________________\n"
     ]
    }
   ],
   "source": [
    "autoencoder.summary()"
   ]
  },
  {
   "cell_type": "code",
   "execution_count": 19,
   "id": "a0de18f0",
   "metadata": {},
   "outputs": [
    {
     "name": "stdout",
     "output_type": "stream",
     "text": [
      "32/32 [==============================] - 1s 31ms/step\n"
     ]
    }
   ],
   "source": [
    "predicted = autoencoder.predict(x_train)"
   ]
  },
  {
   "cell_type": "code",
   "execution_count": 20,
   "id": "81a48a6b",
   "metadata": {},
   "outputs": [
    {
     "data": {
      "image/png": "[encoded data removed]",
      "text/plain": [
       "<Figure size 1000x200 with 1 Axes>"
      ]
     },
     "metadata": {},
     "output_type": "display_data"
    }
   ],
   "source": [
    "plot_image(predicted[0][12])"
   ]
  },
  {
   "cell_type": "code",
   "execution_count": 21,
   "id": "1bf8715e",
   "metadata": {},
   "outputs": [
    {
     "data": {
      "image/png": "[encoded data removed]",
      "text/plain": [
       "<Figure size 1000x200 with 1 Axes>"
      ]
     },
     "metadata": {},
     "output_type": "display_data"
    }
   ],
   "source": [
    "plot_image(predicted[1][12])"
   ]
  },
  {
   "cell_type": "code",
   "execution_count": 22,
   "id": "9bfd8568",
   "metadata": {},
   "outputs": [
    {
     "data": {
      "image/png": "[encoded data removed]",
      "text/plain": [
       "<Figure size 1000x200 with 1 Axes>"
      ]
     },
     "metadata": {},
     "output_type": "display_data"
    }
   ],
   "source": [
    "plot_image(x_train[12])"
   ]
  },
  {
   "cell_type": "code",
   "execution_count": 23,
   "id": "fba12076",
   "metadata": {},
   "outputs": [
    {
     "data": {
      "image/png": "[encoded data removed]",
      "text/plain": [
       "<Figure size 1000x200 with 1 Axes>"
      ]
     },
     "metadata": {},
     "output_type": "display_data"
    }
   ],
   "source": [
    "plot_image(x_1[12])"
   ]
  },
  {
   "cell_type": "code",
   "execution_count": 24,
   "id": "67ecba4e",
   "metadata": {},
   "outputs": [
    {
     "data": {
      "image/png": "[encoded data removed]",
      "text/plain": [
       "<Figure size 1000x200 with 1 Axes>"
      ]
     },
     "metadata": {},
     "output_type": "display_data"
    }
   ],
   "source": [
    "plot_image(x_2[12])"
   ]
  },
  {
   "cell_type": "markdown",
   "id": "a9dfcce0",
   "metadata": {},
   "source": [
    "Here i have created an autoencoder, that is made of 2 decoders.\n",
    "One is to guess the first picture from x_1, and the other has to guess the picture from x_2.\n",
    "I spent a lot of time studying the different types of architechtures and came to the conclusion that unet, which is another type of autoencoder, would probably be a good choice to for this problem, because the same structure for converting an image to a vector is then used to map it to the image again, and this reduces the distortion, since the original structure is preserved.\n",
    "But i didn't have time to implement that architecture since i found out about it too late.\n",
    "Here we have an accuracy of about 52% and a loss of 0.07"
   ]
  },
  {
   "cell_type": "code",
   "execution_count": null,
   "id": "30fbbe5c",
   "metadata": {},
   "outputs": [],
   "source": []
  },
  {
   "cell_type": "code",
   "execution_count": null,
   "id": "0ba534f9",
   "metadata": {},
   "outputs": [],
   "source": []
  },
  {
   "cell_type": "code",
   "execution_count": null,
   "id": "e2b643b4",
   "metadata": {},
   "outputs": [],
   "source": []
  },
  {
   "cell_type": "code",
   "execution_count": null,
   "id": "0f6d68e5",
   "metadata": {},
   "outputs": [],
   "source": []
  }
 ],
 "metadata": {
  "kernelspec": {
   "display_name": "Python 3 (ipykernel)",
   "language": "python",
   "name": "python3"
  },
  "language_info": {
   "codemirror_mode": {
    "name": "ipython",
    "version": 3
   },
   "file_extension": ".py",
   "mimetype": "text/x-python",
   "name": "python",
   "nbconvert_exporter": "python",
   "pygments_lexer": "ipython3",
   "version": "3.9.6"
  }
 },
 "nbformat": 4,
 "nbformat_minor": 5
}
